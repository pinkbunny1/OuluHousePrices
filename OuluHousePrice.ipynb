{
 "cells": [
  {
   "cell_type": "code",
   "execution_count": 1,
   "metadata": {
    "collapsed": true
   },
   "outputs": [],
   "source": [
    "import graphlab as gl"
   ]
  },
  {
   "cell_type": "markdown",
   "metadata": {},
   "source": [
    "### Load datasets"
   ]
  },
  {
   "cell_type": "code",
   "execution_count": 2,
   "metadata": {},
   "outputs": [
    {
     "name": "stdout",
     "output_type": "stream",
     "text": [
      "This non-commercial license of GraphLab Create for academic use is assigned to snowytrees182@gmail.com and will expire on November 08, 2017.\n"
     ]
    },
    {
     "name": "stderr",
     "output_type": "stream",
     "text": [
      "[INFO] graphlab.cython.cy_server: GraphLab Create v2.1 started. Logging: /tmp/graphlab_server_1495261568.log\n"
     ]
    },
    {
     "data": {
      "text/html": [
       "<pre>Finished parsing file /Users/Jin/projects/capstoneProj/regression_FinPrices/datasets/oulu_housing_postcode.csv</pre>"
      ],
      "text/plain": [
       "Finished parsing file /Users/Jin/projects/capstoneProj/regression_FinPrices/datasets/oulu_housing_postcode.csv"
      ]
     },
     "metadata": {},
     "output_type": "display_data"
    },
    {
     "data": {
      "text/html": [
       "<pre>Parsing completed. Parsed 100 lines in 0.073536 secs.</pre>"
      ],
      "text/plain": [
       "Parsing completed. Parsed 100 lines in 0.073536 secs."
      ]
     },
     "metadata": {},
     "output_type": "display_data"
    },
    {
     "name": "stdout",
     "output_type": "stream",
     "text": [
      "------------------------------------------------------\n",
      "Inferred types from first 100 line(s) of file as \n",
      "column_type_hints=[int,str,int,int,str,float,float,str,str,int]\n",
      "If parsing fails due to incorrect types, you can correct\n",
      "the inferred type list above and pass it to read_csv in\n",
      "the column_type_hints argument\n",
      "------------------------------------------------------\n"
     ]
    },
    {
     "data": {
      "text/html": [
       "<pre>Unable to parse line \"26981;Höyrymyllyntie 8 A 7, Toppilansalmi Oulu;3135;2018;http://www.etuovi.com/kohde/d79239?sc=M1042147289&pos=29312;178700;57;2h+kk+s;Kerrostalo;FI\"</pre>"
      ],
      "text/plain": [
       "Unable to parse line \"26981;Höyrymyllyntie 8 A 7, Toppilansalmi Oulu;3135;2018;http://www.etuovi.com/kohde/d79239?sc=M1042147289&pos=29312;178700;57;2h+kk+s;Kerrostalo;FI\""
      ]
     },
     "metadata": {},
     "output_type": "display_data"
    },
    {
     "data": {
      "text/html": [
       "<pre>Unable to parse line \"3729;Kraaselintie 3, Rajahauta Oulu;1273;1986;http://www.etuovi.com/kohde/2204747?sc=M1042147289&pos=3992;134900;106;4h,k,khh,kph,s,wc,2vh.;Paritalo;FI\"</pre>"
      ],
      "text/plain": [
       "Unable to parse line \"3729;Kraaselintie 3, Rajahauta Oulu;1273;1986;http://www.etuovi.com/kohde/2204747?sc=M1042147289&pos=3992;134900;106;4h,k,khh,kph,s,wc,2vh.;Paritalo;FI\""
      ]
     },
     "metadata": {},
     "output_type": "display_data"
    },
    {
     "data": {
      "text/html": [
       "<pre>Unable to parse line \"13715;Höyrymyllyntie 8 A 10, Toppilansalmi Oulu;3301;2018;http://www.etuovi.com/kohde/e27299?sc=M1042147289&pos=14863;275600;83.5;4h+kt+s;Kerrostalo;FI\"</pre>"
      ],
      "text/plain": [
       "Unable to parse line \"13715;Höyrymyllyntie 8 A 10, Toppilansalmi Oulu;3301;2018;http://www.etuovi.com/kohde/e27299?sc=M1042147289&pos=14863;275600;83.5;4h+kt+s;Kerrostalo;FI\""
      ]
     },
     "metadata": {},
     "output_type": "display_data"
    },
    {
     "data": {
      "text/html": [
       "<pre>Unable to parse line \"26992;Höyrymyllyntie 8 A 16, Toppilansalmi Oulu;3558;2018;http://www.etuovi.com/kohde/d79228?sc=M1042147289&pos=29324;204600;57.5;3h+kk+s;Kerrostalo;FI\"</pre>"
      ],
      "text/plain": [
       "Unable to parse line \"26992;Höyrymyllyntie 8 A 16, Toppilansalmi Oulu;3558;2018;http://www.etuovi.com/kohde/d79228?sc=M1042147289&pos=29324;204600;57.5;3h+kk+s;Kerrostalo;FI\""
      ]
     },
     "metadata": {},
     "output_type": "display_data"
    },
    {
     "data": {
      "text/html": [
       "<pre>Unable to parse line \"27175;Höyrymyllyntie 8 A 4, Toppilansalmi Oulu;3109;2018;http://www.etuovi.com/kohde/d78797?sc=M1042147289&pos=29545;259600;83.5;4h+k+s;Kerrostalo;FI\"</pre>"
      ],
      "text/plain": [
       "Unable to parse line \"27175;Höyrymyllyntie 8 A 4, Toppilansalmi Oulu;3109;2018;http://www.etuovi.com/kohde/d78797?sc=M1042147289&pos=29545;259600;83.5;4h+k+s;Kerrostalo;FI\""
      ]
     },
     "metadata": {},
     "output_type": "display_data"
    },
    {
     "data": {
      "text/html": [
       "<pre>Unable to parse line \"4619;Fokkatie 2, Toppilansaari Oulu;2199;2005;http://www.etuovi.com/kohde/9844469?sc=M1042147289&pos=4920;155000;70.5;3h, k, s;Kerrostalo;FI\"</pre>"
      ],
      "text/plain": [
       "Unable to parse line \"4619;Fokkatie 2, Toppilansaari Oulu;2199;2005;http://www.etuovi.com/kohde/9844469?sc=M1042147289&pos=4920;155000;70.5;3h, k, s;Kerrostalo;FI\""
      ]
     },
     "metadata": {},
     "output_type": "display_data"
    },
    {
     "data": {
      "text/html": [
       "<pre>Unable to parse line \"4680;Kraaselintie 47, Rajahauta Oulu;1160;1975;http://www.etuovi.com/kohde/7730282?sc=M1042147289&pos=4993;138000;119;4h, k, kph, s;Omakotitalo;FI\"</pre>"
      ],
      "text/plain": [
       "Unable to parse line \"4680;Kraaselintie 47, Rajahauta Oulu;1160;1975;http://www.etuovi.com/kohde/7730282?sc=M1042147289&pos=4993;138000;119;4h, k, kph, s;Omakotitalo;FI\""
      ]
     },
     "metadata": {},
     "output_type": "display_data"
    },
    {
     "data": {
      "text/html": [
       "<pre>Unable to parse line \"15674;Pitkänmöljäntie 29 B31, Toppilansaari Oulu;4041;2017;http://www.etuovi.com/kohde/c34668?sc=M1042147289&pos=16907;278800;69;3h+k+s;Kerrostalo;FI\"</pre>"
      ],
      "text/plain": [
       "Unable to parse line \"15674;Pitkänmöljäntie 29 B31, Toppilansaari Oulu;4041;2017;http://www.etuovi.com/kohde/c34668?sc=M1042147289&pos=16907;278800;69;3h+k+s;Kerrostalo;FI\""
      ]
     },
     "metadata": {},
     "output_type": "display_data"
    },
    {
     "data": {
      "text/html": [
       "<pre>Unable to parse line \"30843;Koitelinkoskentie 1157, Huttukylä Oulu;1768;2007;http://www.etuovi.com/kohde/d66966?sc=M1042147289&pos=33692;244000;138;5h+k+khh+kh/wc+s+erill.wc+et+tk+tekn.tila;Omakotitalo;FI\"</pre>"
      ],
      "text/plain": [
       "Unable to parse line \"30843;Koitelinkoskentie 1157, Huttukylä Oulu;1768;2007;http://www.etuovi.com/kohde/d66966?sc=M1042147289&pos=33692;244000;138;5h+k+khh+kh/wc+s+erill.wc+et+tk+tekn.tila;Omakotitalo;FI\""
      ]
     },
     "metadata": {},
     "output_type": "display_data"
    },
    {
     "data": {
      "text/html": [
       "<pre>Unable to parse line \"16709;Höyrymyllyntie 8 A 13, Toppilansalmi Oulu;4150;2018;http://www.etuovi.com/kohde/e22898?sc=M1042147289&pos=17965;107900;26;1h+kk;Kerrostalo;FI\"</pre>"
      ],
      "text/plain": [
       "Unable to parse line \"16709;Höyrymyllyntie 8 A 13, Toppilansalmi Oulu;4150;2018;http://www.etuovi.com/kohde/e22898?sc=M1042147289&pos=17965;107900;26;1h+kk;Kerrostalo;FI\""
      ]
     },
     "metadata": {},
     "output_type": "display_data"
    },
    {
     "data": {
      "text/html": [
       "<pre>Read 465 lines. Lines per second: 27256.7</pre>"
      ],
      "text/plain": [
       "Read 465 lines. Lines per second: 27256.7"
      ]
     },
     "metadata": {},
     "output_type": "display_data"
    },
    {
     "data": {
      "text/html": [
       "<pre>16 lines failed to parse correctly</pre>"
      ],
      "text/plain": [
       "16 lines failed to parse correctly"
      ]
     },
     "metadata": {},
     "output_type": "display_data"
    },
    {
     "data": {
      "text/html": [
       "<pre>Finished parsing file /Users/Jin/projects/capstoneProj/regression_FinPrices/datasets/oulu_housing_postcode.csv</pre>"
      ],
      "text/plain": [
       "Finished parsing file /Users/Jin/projects/capstoneProj/regression_FinPrices/datasets/oulu_housing_postcode.csv"
      ]
     },
     "metadata": {},
     "output_type": "display_data"
    },
    {
     "data": {
      "text/html": [
       "<pre>Parsing completed. Parsed 1381 lines in 0.017645 secs.</pre>"
      ],
      "text/plain": [
       "Parsing completed. Parsed 1381 lines in 0.017645 secs."
      ]
     },
     "metadata": {},
     "output_type": "display_data"
    }
   ],
   "source": [
    "oulu_sales = gl.SFrame.read_csv('datasets/oulu_housing_postcode.csv', delimiter=';')"
   ]
  },
  {
   "cell_type": "code",
   "execution_count": 3,
   "metadata": {},
   "outputs": [
    {
     "data": {
      "text/html": [
       "<div style=\"max-height:1000px;max-width:1500px;overflow:auto;\"><table frame=\"box\" rules=\"cols\">\n",
       "    <tr>\n",
       "        <th style=\"padding-left: 1em; padding-right: 1em; text-align: center\">id</th>\n",
       "        <th style=\"padding-left: 1em; padding-right: 1em; text-align: center\">address</th>\n",
       "        <th style=\"padding-left: 1em; padding-right: 1em; text-align: center\">pricePerSqm</th>\n",
       "        <th style=\"padding-left: 1em; padding-right: 1em; text-align: center\">yearBuilt</th>\n",
       "        <th style=\"padding-left: 1em; padding-right: 1em; text-align: center\">sourceLink</th>\n",
       "        <th style=\"padding-left: 1em; padding-right: 1em; text-align: center\">salePrice</th>\n",
       "        <th style=\"padding-left: 1em; padding-right: 1em; text-align: center\">size</th>\n",
       "    </tr>\n",
       "    <tr>\n",
       "        <td style=\"padding-left: 1em; padding-right: 1em; text-align: center; vertical-align: top\">10</td>\n",
       "        <td style=\"padding-left: 1em; padding-right: 1em; text-align: center; vertical-align: top\">Tepontie 5A, Kaakkuri<br>Oulu ...</td>\n",
       "        <td style=\"padding-left: 1em; padding-right: 1em; text-align: center; vertical-align: top\">2246</td>\n",
       "        <td style=\"padding-left: 1em; padding-right: 1em; text-align: center; vertical-align: top\">2011</td>\n",
       "        <td style=\"padding-left: 1em; padding-right: 1em; text-align: center; vertical-align: top\">http://www.etuovi.com/koh<br>de/e46243?sc=M1042147 ...</td>\n",
       "        <td style=\"padding-left: 1em; padding-right: 1em; text-align: center; vertical-align: top\">99962.0</td>\n",
       "        <td style=\"padding-left: 1em; padding-right: 1em; text-align: center; vertical-align: top\">44.5</td>\n",
       "    </tr>\n",
       "    <tr>\n",
       "        <td style=\"padding-left: 1em; padding-right: 1em; text-align: center; vertical-align: top\">24</td>\n",
       "        <td style=\"padding-left: 1em; padding-right: 1em; text-align: center; vertical-align: top\">Runkotie 5 B, Oulunsalo<br>Oulu ...</td>\n",
       "        <td style=\"padding-left: 1em; padding-right: 1em; text-align: center; vertical-align: top\">1653</td>\n",
       "        <td style=\"padding-left: 1em; padding-right: 1em; text-align: center; vertical-align: top\">1999</td>\n",
       "        <td style=\"padding-left: 1em; padding-right: 1em; text-align: center; vertical-align: top\">http://www.etuovi.com/koh<br>de/7724940?sc=M104214 ...</td>\n",
       "        <td style=\"padding-left: 1em; padding-right: 1em; text-align: center; vertical-align: top\">83500.0</td>\n",
       "        <td style=\"padding-left: 1em; padding-right: 1em; text-align: center; vertical-align: top\">50.5</td>\n",
       "    </tr>\n",
       "    <tr>\n",
       "        <td style=\"padding-left: 1em; padding-right: 1em; text-align: center; vertical-align: top\">42</td>\n",
       "        <td style=\"padding-left: 1em; padding-right: 1em; text-align: center; vertical-align: top\">Höyrymyllyntie 8 A 23,<br>Toppilansalmi Oulu ...</td>\n",
       "        <td style=\"padding-left: 1em; padding-right: 1em; text-align: center; vertical-align: top\">3405</td>\n",
       "        <td style=\"padding-left: 1em; padding-right: 1em; text-align: center; vertical-align: top\">2018</td>\n",
       "        <td style=\"padding-left: 1em; padding-right: 1em; text-align: center; vertical-align: top\">http://www.etuovi.com/koh<br>de/e44988?sc=M1042147 ...</td>\n",
       "        <td style=\"padding-left: 1em; padding-right: 1em; text-align: center; vertical-align: top\">194100.0</td>\n",
       "        <td style=\"padding-left: 1em; padding-right: 1em; text-align: center; vertical-align: top\">57.0</td>\n",
       "    </tr>\n",
       "    <tr>\n",
       "        <td style=\"padding-left: 1em; padding-right: 1em; text-align: center; vertical-align: top\">45</td>\n",
       "        <td style=\"padding-left: 1em; padding-right: 1em; text-align: center; vertical-align: top\">Kauppalinnankatu 1 J75,<br>Linnanmaa Oulu ...</td>\n",
       "        <td style=\"padding-left: 1em; padding-right: 1em; text-align: center; vertical-align: top\">3258</td>\n",
       "        <td style=\"padding-left: 1em; padding-right: 1em; text-align: center; vertical-align: top\">2017</td>\n",
       "        <td style=\"padding-left: 1em; padding-right: 1em; text-align: center; vertical-align: top\">http://www.etuovi.com/koh<br>de/e44987?sc=M1042147 ...</td>\n",
       "        <td style=\"padding-left: 1em; padding-right: 1em; text-align: center; vertical-align: top\">105900.0</td>\n",
       "        <td style=\"padding-left: 1em; padding-right: 1em; text-align: center; vertical-align: top\">32.5</td>\n",
       "    </tr>\n",
       "    <tr>\n",
       "        <td style=\"padding-left: 1em; padding-right: 1em; text-align: center; vertical-align: top\">48</td>\n",
       "        <td style=\"padding-left: 1em; padding-right: 1em; text-align: center; vertical-align: top\">Valjakkotie 1,<br>Heikkilänkangas Oulu ...</td>\n",
       "        <td style=\"padding-left: 1em; padding-right: 1em; text-align: center; vertical-align: top\">274</td>\n",
       "        <td style=\"padding-left: 1em; padding-right: 1em; text-align: center; vertical-align: top\">2000</td>\n",
       "        <td style=\"padding-left: 1em; padding-right: 1em; text-align: center; vertical-align: top\">http://www.etuovi.com/koh<br>de/e44977?sc=M1042147 ...</td>\n",
       "        <td style=\"padding-left: 1em; padding-right: 1em; text-align: center; vertical-align: top\">15095.56</td>\n",
       "        <td style=\"padding-left: 1em; padding-right: 1em; text-align: center; vertical-align: top\">55.0</td>\n",
       "    </tr>\n",
       "    <tr>\n",
       "        <td style=\"padding-left: 1em; padding-right: 1em; text-align: center; vertical-align: top\">56</td>\n",
       "        <td style=\"padding-left: 1em; padding-right: 1em; text-align: center; vertical-align: top\">Höyhenkuja 1, Kaakkuri<br>Oulu ...</td>\n",
       "        <td style=\"padding-left: 1em; padding-right: 1em; text-align: center; vertical-align: top\">272</td>\n",
       "        <td style=\"padding-left: 1em; padding-right: 1em; text-align: center; vertical-align: top\">2001</td>\n",
       "        <td style=\"padding-left: 1em; padding-right: 1em; text-align: center; vertical-align: top\">http://www.etuovi.com/koh<br>de/e44972?sc=M1042147 ...</td>\n",
       "        <td style=\"padding-left: 1em; padding-right: 1em; text-align: center; vertical-align: top\">22836.99</td>\n",
       "        <td style=\"padding-left: 1em; padding-right: 1em; text-align: center; vertical-align: top\">84.0</td>\n",
       "    </tr>\n",
       "    <tr>\n",
       "        <td style=\"padding-left: 1em; padding-right: 1em; text-align: center; vertical-align: top\">66</td>\n",
       "        <td style=\"padding-left: 1em; padding-right: 1em; text-align: center; vertical-align: top\">Koskitie 39 E 44, Tuira<br>Oulu ...</td>\n",
       "        <td style=\"padding-left: 1em; padding-right: 1em; text-align: center; vertical-align: top\">4336</td>\n",
       "        <td style=\"padding-left: 1em; padding-right: 1em; text-align: center; vertical-align: top\">2016</td>\n",
       "        <td style=\"padding-left: 1em; padding-right: 1em; text-align: center; vertical-align: top\">http://www.etuovi.com/koh<br>de/e46226?sc=M1042147 ...</td>\n",
       "        <td style=\"padding-left: 1em; padding-right: 1em; text-align: center; vertical-align: top\">424900.0</td>\n",
       "        <td style=\"padding-left: 1em; padding-right: 1em; text-align: center; vertical-align: top\">98.0</td>\n",
       "    </tr>\n",
       "    <tr>\n",
       "        <td style=\"padding-left: 1em; padding-right: 1em; text-align: center; vertical-align: top\">68</td>\n",
       "        <td style=\"padding-left: 1em; padding-right: 1em; text-align: center; vertical-align: top\">Asemakyläntie 135,<br>Haukipudas Oulu ...</td>\n",
       "        <td style=\"padding-left: 1em; padding-right: 1em; text-align: center; vertical-align: top\">1845</td>\n",
       "        <td style=\"padding-left: 1em; padding-right: 1em; text-align: center; vertical-align: top\">2006</td>\n",
       "        <td style=\"padding-left: 1em; padding-right: 1em; text-align: center; vertical-align: top\">http://www.etuovi.com/koh<br>de/e44946?sc=M1042147 ...</td>\n",
       "        <td style=\"padding-left: 1em; padding-right: 1em; text-align: center; vertical-align: top\">179000.0</td>\n",
       "        <td style=\"padding-left: 1em; padding-right: 1em; text-align: center; vertical-align: top\">97.0</td>\n",
       "    </tr>\n",
       "    <tr>\n",
       "        <td style=\"padding-left: 1em; padding-right: 1em; text-align: center; vertical-align: top\">78</td>\n",
       "        <td style=\"padding-left: 1em; padding-right: 1em; text-align: center; vertical-align: top\">Pakkahuoneenkatu 21,<br>Keskusta Oulu ...</td>\n",
       "        <td style=\"padding-left: 1em; padding-right: 1em; text-align: center; vertical-align: top\">3293</td>\n",
       "        <td style=\"padding-left: 1em; padding-right: 1em; text-align: center; vertical-align: top\">2008</td>\n",
       "        <td style=\"padding-left: 1em; padding-right: 1em; text-align: center; vertical-align: top\">http://www.etuovi.com/koh<br>de/1194825?sc=M104214 ...</td>\n",
       "        <td style=\"padding-left: 1em; padding-right: 1em; text-align: center; vertical-align: top\">298000.0</td>\n",
       "        <td style=\"padding-left: 1em; padding-right: 1em; text-align: center; vertical-align: top\">90.5</td>\n",
       "    </tr>\n",
       "    <tr>\n",
       "        <td style=\"padding-left: 1em; padding-right: 1em; text-align: center; vertical-align: top\">80</td>\n",
       "        <td style=\"padding-left: 1em; padding-right: 1em; text-align: center; vertical-align: top\">Kontiotie 5-7,<br>Välivainio Oulu ...</td>\n",
       "        <td style=\"padding-left: 1em; padding-right: 1em; text-align: center; vertical-align: top\">1309</td>\n",
       "        <td style=\"padding-left: 1em; padding-right: 1em; text-align: center; vertical-align: top\">1963</td>\n",
       "        <td style=\"padding-left: 1em; padding-right: 1em; text-align: center; vertical-align: top\">http://www.etuovi.com/koh<br>de/7733206?sc=M104214 ...</td>\n",
       "        <td style=\"padding-left: 1em; padding-right: 1em; text-align: center; vertical-align: top\">72000.0</td>\n",
       "        <td style=\"padding-left: 1em; padding-right: 1em; text-align: center; vertical-align: top\">55.0</td>\n",
       "    </tr>\n",
       "</table>\n",
       "<table frame=\"box\" rules=\"cols\">\n",
       "    <tr>\n",
       "        <th style=\"padding-left: 1em; padding-right: 1em; text-align: center\">roomInfo</th>\n",
       "        <th style=\"padding-left: 1em; padding-right: 1em; text-align: center\">houseType</th>\n",
       "        <th style=\"padding-left: 1em; padding-right: 1em; text-align: center\">postcode</th>\n",
       "    </tr>\n",
       "    <tr>\n",
       "        <td style=\"padding-left: 1em; padding-right: 1em; text-align: center; vertical-align: top\">2h + kk + sauna + p</td>\n",
       "        <td style=\"padding-left: 1em; padding-right: 1em; text-align: center; vertical-align: top\">Luhtitalo</td>\n",
       "        <td style=\"padding-left: 1em; padding-right: 1em; text-align: center; vertical-align: top\">90420</td>\n",
       "    </tr>\n",
       "    <tr>\n",
       "        <td style=\"padding-left: 1em; padding-right: 1em; text-align: center; vertical-align: top\">2h, k, s</td>\n",
       "        <td style=\"padding-left: 1em; padding-right: 1em; text-align: center; vertical-align: top\">Rivitalo</td>\n",
       "        <td style=\"padding-left: 1em; padding-right: 1em; text-align: center; vertical-align: top\">90460</td>\n",
       "    </tr>\n",
       "    <tr>\n",
       "        <td style=\"padding-left: 1em; padding-right: 1em; text-align: center; vertical-align: top\">2h+ kk + s</td>\n",
       "        <td style=\"padding-left: 1em; padding-right: 1em; text-align: center; vertical-align: top\">Kerrostalo</td>\n",
       "        <td style=\"padding-left: 1em; padding-right: 1em; text-align: center; vertical-align: top\">90520</td>\n",
       "    </tr>\n",
       "    <tr>\n",
       "        <td style=\"padding-left: 1em; padding-right: 1em; text-align: center; vertical-align: top\">1h+kk+alk+parveke</td>\n",
       "        <td style=\"padding-left: 1em; padding-right: 1em; text-align: center; vertical-align: top\">Kerrostalo</td>\n",
       "        <td style=\"padding-left: 1em; padding-right: 1em; text-align: center; vertical-align: top\">90570</td>\n",
       "    </tr>\n",
       "    <tr>\n",
       "        <td style=\"padding-left: 1em; padding-right: 1em; text-align: center; vertical-align: top\">2H+K+S</td>\n",
       "        <td style=\"padding-left: 1em; padding-right: 1em; text-align: center; vertical-align: top\">Rivitalo</td>\n",
       "        <td style=\"padding-left: 1em; padding-right: 1em; text-align: center; vertical-align: top\">90310</td>\n",
       "    </tr>\n",
       "    <tr>\n",
       "        <td style=\"padding-left: 1em; padding-right: 1em; text-align: center; vertical-align: top\">4H+K+S</td>\n",
       "        <td style=\"padding-left: 1em; padding-right: 1em; text-align: center; vertical-align: top\">Kerrostalo</td>\n",
       "        <td style=\"padding-left: 1em; padding-right: 1em; text-align: center; vertical-align: top\">90420</td>\n",
       "    </tr>\n",
       "    <tr>\n",
       "        <td style=\"padding-left: 1em; padding-right: 1em; text-align: center; vertical-align: top\">4h+k+s</td>\n",
       "        <td style=\"padding-left: 1em; padding-right: 1em; text-align: center; vertical-align: top\">Kerrostalo</td>\n",
       "        <td style=\"padding-left: 1em; padding-right: 1em; text-align: center; vertical-align: top\">90500</td>\n",
       "    </tr>\n",
       "    <tr>\n",
       "        <td style=\"padding-left: 1em; padding-right: 1em; text-align: center; vertical-align: top\">2-3h, k, kph, s</td>\n",
       "        <td style=\"padding-left: 1em; padding-right: 1em; text-align: center; vertical-align: top\">Omakotitalo</td>\n",
       "        <td style=\"padding-left: 1em; padding-right: 1em; text-align: center; vertical-align: top\">90840</td>\n",
       "    </tr>\n",
       "    <tr>\n",
       "        <td style=\"padding-left: 1em; padding-right: 1em; text-align: center; vertical-align: top\">3h, k, rt, khh/vh, kph,<br>s, wc, parv+varasto ...</td>\n",
       "        <td style=\"padding-left: 1em; padding-right: 1em; text-align: center; vertical-align: top\">Kerrostalo</td>\n",
       "        <td style=\"padding-left: 1em; padding-right: 1em; text-align: center; vertical-align: top\">90100</td>\n",
       "    </tr>\n",
       "    <tr>\n",
       "        <td style=\"padding-left: 1em; padding-right: 1em; text-align: center; vertical-align: top\">2h, k</td>\n",
       "        <td style=\"padding-left: 1em; padding-right: 1em; text-align: center; vertical-align: top\">Kerrostalo</td>\n",
       "        <td style=\"padding-left: 1em; padding-right: 1em; text-align: center; vertical-align: top\">90530</td>\n",
       "    </tr>\n",
       "</table>\n",
       "[10 rows x 10 columns]<br/>\n",
       "</div>"
      ],
      "text/plain": [
       "Columns:\n",
       "\tid\tint\n",
       "\taddress\tstr\n",
       "\tpricePerSqm\tint\n",
       "\tyearBuilt\tint\n",
       "\tsourceLink\tstr\n",
       "\tsalePrice\tfloat\n",
       "\tsize\tfloat\n",
       "\troomInfo\tstr\n",
       "\thouseType\tstr\n",
       "\tpostcode\tint\n",
       "\n",
       "Rows: 10\n",
       "\n",
       "Data:\n",
       "+----+-------------------------------+-------------+-----------+\n",
       "| id |            address            | pricePerSqm | yearBuilt |\n",
       "+----+-------------------------------+-------------+-----------+\n",
       "| 10 |   Tepontie 5A, Kaakkuri Oulu  |     2246    |    2011   |\n",
       "| 24 |  Runkotie 5 B, Oulunsalo Oulu |     1653    |    1999   |\n",
       "| 42 | Höyrymyllyntie 8 A 23, Top... |     3405    |    2018   |\n",
       "| 45 | Kauppalinnankatu 1 J75, Li... |     3258    |    2017   |\n",
       "| 48 | Valjakkotie 1, Heikkilänka... |     274     |    2000   |\n",
       "| 56 |  Höyhenkuja 1, Kaakkuri Oulu  |     272     |    2001   |\n",
       "| 66 |  Koskitie 39 E 44, Tuira Oulu |     4336    |    2016   |\n",
       "| 68 | Asemakyläntie 135, Haukipu... |     1845    |    2006   |\n",
       "| 78 | Pakkahuoneenkatu 21, Kesku... |     3293    |    2008   |\n",
       "| 80 | Kontiotie 5-7, Välivainio ... |     1309    |    1963   |\n",
       "+----+-------------------------------+-------------+-----------+\n",
       "+-------------------------------+-----------+------+\n",
       "|           sourceLink          | salePrice | size |\n",
       "+-------------------------------+-----------+------+\n",
       "| http://www.etuovi.com/kohd... |  99962.0  | 44.5 |\n",
       "| http://www.etuovi.com/kohd... |  83500.0  | 50.5 |\n",
       "| http://www.etuovi.com/kohd... |  194100.0 | 57.0 |\n",
       "| http://www.etuovi.com/kohd... |  105900.0 | 32.5 |\n",
       "| http://www.etuovi.com/kohd... |  15095.56 | 55.0 |\n",
       "| http://www.etuovi.com/kohd... |  22836.99 | 84.0 |\n",
       "| http://www.etuovi.com/kohd... |  424900.0 | 98.0 |\n",
       "| http://www.etuovi.com/kohd... |  179000.0 | 97.0 |\n",
       "| http://www.etuovi.com/kohd... |  298000.0 | 90.5 |\n",
       "| http://www.etuovi.com/kohd... |  72000.0  | 55.0 |\n",
       "+-------------------------------+-----------+------+\n",
       "+-------------------------------+-------------+----------+\n",
       "|            roomInfo           |  houseType  | postcode |\n",
       "+-------------------------------+-------------+----------+\n",
       "|      2h + kk + sauna + p      |  Luhtitalo  |  90420   |\n",
       "|            2h, k, s           |   Rivitalo  |  90460   |\n",
       "|           2h+ kk + s          |  Kerrostalo |  90520   |\n",
       "|       1h+kk+alk+parveke       |  Kerrostalo |  90570   |\n",
       "|             2H+K+S            |   Rivitalo  |  90310   |\n",
       "|             4H+K+S            |  Kerrostalo |  90420   |\n",
       "|             4h+k+s            |  Kerrostalo |  90500   |\n",
       "|        2-3h, k, kph, s        | Omakotitalo |  90840   |\n",
       "| 3h, k, rt, khh/vh, kph, s,... |  Kerrostalo |  90100   |\n",
       "|             2h, k             |  Kerrostalo |  90530   |\n",
       "+-------------------------------+-------------+----------+\n",
       "[10 rows x 10 columns]"
      ]
     },
     "execution_count": 3,
     "metadata": {},
     "output_type": "execute_result"
    }
   ],
   "source": [
    "oulu_sales.head()"
   ]
  },
  {
   "cell_type": "markdown",
   "metadata": {},
   "source": [
    "### Chosen features = pricePersqm, yearBuilt, postcode"
   ]
  },
  {
   "cell_type": "code",
   "execution_count": 4,
   "metadata": {
    "collapsed": true
   },
   "outputs": [],
   "source": [
    "feature1 = ['postcode']\n",
    "feature2 = ['yearBuilt', 'postcode']\n",
    "feature3 = ['size', 'yearBuilt', 'postcode']"
   ]
  },
  {
   "cell_type": "markdown",
   "metadata": {},
   "source": [
    "### Split data -> train, test"
   ]
  },
  {
   "cell_type": "code",
   "execution_count": 5,
   "metadata": {},
   "outputs": [
    {
     "name": "stdout",
     "output_type": "stream",
     "text": [
      "all: 1381\n",
      "train: 1096\n",
      "test: 285\n"
     ]
    }
   ],
   "source": [
    "train_data, test_data = oulu_sales.random_split(0.8, seed=0)\n",
    "print \"all:\", len(oulu_sales)\n",
    "print \"train:\", len(train_data)\n",
    "print \"test:\", len(test_data)"
   ]
  },
  {
   "cell_type": "code",
   "execution_count": 6,
   "metadata": {},
   "outputs": [
    {
     "data": {
      "text/html": [
       "<pre>Linear regression:</pre>"
      ],
      "text/plain": [
       "Linear regression:"
      ]
     },
     "metadata": {},
     "output_type": "display_data"
    },
    {
     "data": {
      "text/html": [
       "<pre>--------------------------------------------------------</pre>"
      ],
      "text/plain": [
       "--------------------------------------------------------"
      ]
     },
     "metadata": {},
     "output_type": "display_data"
    },
    {
     "data": {
      "text/html": [
       "<pre>Number of examples          : 1096</pre>"
      ],
      "text/plain": [
       "Number of examples          : 1096"
      ]
     },
     "metadata": {},
     "output_type": "display_data"
    },
    {
     "data": {
      "text/html": [
       "<pre>Number of features          : 1</pre>"
      ],
      "text/plain": [
       "Number of features          : 1"
      ]
     },
     "metadata": {},
     "output_type": "display_data"
    },
    {
     "data": {
      "text/html": [
       "<pre>Number of unpacked features : 1</pre>"
      ],
      "text/plain": [
       "Number of unpacked features : 1"
      ]
     },
     "metadata": {},
     "output_type": "display_data"
    },
    {
     "data": {
      "text/html": [
       "<pre>Number of coefficients    : 2</pre>"
      ],
      "text/plain": [
       "Number of coefficients    : 2"
      ]
     },
     "metadata": {},
     "output_type": "display_data"
    },
    {
     "data": {
      "text/html": [
       "<pre>Starting Newton Method</pre>"
      ],
      "text/plain": [
       "Starting Newton Method"
      ]
     },
     "metadata": {},
     "output_type": "display_data"
    },
    {
     "data": {
      "text/html": [
       "<pre>--------------------------------------------------------</pre>"
      ],
      "text/plain": [
       "--------------------------------------------------------"
      ]
     },
     "metadata": {},
     "output_type": "display_data"
    },
    {
     "data": {
      "text/html": [
       "<pre>+-----------+----------+--------------+--------------------+---------------+</pre>"
      ],
      "text/plain": [
       "+-----------+----------+--------------+--------------------+---------------+"
      ]
     },
     "metadata": {},
     "output_type": "display_data"
    },
    {
     "data": {
      "text/html": [
       "<pre>| Iteration | Passes   | Elapsed Time | Training-max_error | Training-rmse |</pre>"
      ],
      "text/plain": [
       "| Iteration | Passes   | Elapsed Time | Training-max_error | Training-rmse |"
      ]
     },
     "metadata": {},
     "output_type": "display_data"
    },
    {
     "data": {
      "text/html": [
       "<pre>+-----------+----------+--------------+--------------------+---------------+</pre>"
      ],
      "text/plain": [
       "+-----------+----------+--------------+--------------------+---------------+"
      ]
     },
     "metadata": {},
     "output_type": "display_data"
    },
    {
     "data": {
      "text/html": [
       "<pre>| 1         | 2        | 1.005559     | 557626.087568      | 85995.136537  |</pre>"
      ],
      "text/plain": [
       "| 1         | 2        | 1.005559     | 557626.087568      | 85995.136537  |"
      ]
     },
     "metadata": {},
     "output_type": "display_data"
    },
    {
     "data": {
      "text/html": [
       "<pre>+-----------+----------+--------------+--------------------+---------------+</pre>"
      ],
      "text/plain": [
       "+-----------+----------+--------------+--------------------+---------------+"
      ]
     },
     "metadata": {},
     "output_type": "display_data"
    },
    {
     "data": {
      "text/html": [
       "<pre>SUCCESS: Optimal solution found.</pre>"
      ],
      "text/plain": [
       "SUCCESS: Optimal solution found."
      ]
     },
     "metadata": {},
     "output_type": "display_data"
    }
   ],
   "source": [
    "size_model = gl.linear_regression.create(train_data, target='salePrice', features=['size'], validation_set=None)"
   ]
  },
  {
   "cell_type": "code",
   "execution_count": 7,
   "metadata": {},
   "outputs": [
    {
     "data": {
      "text/html": [
       "<pre></pre>"
      ],
      "text/plain": []
     },
     "metadata": {},
     "output_type": "display_data"
    },
    {
     "data": {
      "text/plain": [
       "{'max_error': 513109.5113596902, 'rmse': 90307.00349348203}"
      ]
     },
     "execution_count": 7,
     "metadata": {},
     "output_type": "execute_result"
    }
   ],
   "source": [
    "size_model.evaluate(test_data)"
   ]
  },
  {
   "cell_type": "code",
   "execution_count": 8,
   "metadata": {},
   "outputs": [
    {
     "name": "stdout",
     "output_type": "stream",
     "text": [
      "2302.49473684\n"
     ]
    }
   ],
   "source": [
    "print test_data['pricePerSqm'].mean()"
   ]
  },
  {
   "cell_type": "code",
   "execution_count": 9,
   "metadata": {},
   "outputs": [
    {
     "data": {
      "text/html": [
       "<div style=\"max-height:1000px;max-width:1500px;overflow:auto;\"><table frame=\"box\" rules=\"cols\">\n",
       "    <tr>\n",
       "        <th style=\"padding-left: 1em; padding-right: 1em; text-align: center\">name</th>\n",
       "        <th style=\"padding-left: 1em; padding-right: 1em; text-align: center\">index</th>\n",
       "        <th style=\"padding-left: 1em; padding-right: 1em; text-align: center\">value</th>\n",
       "        <th style=\"padding-left: 1em; padding-right: 1em; text-align: center\">stderr</th>\n",
       "    </tr>\n",
       "    <tr>\n",
       "        <td style=\"padding-left: 1em; padding-right: 1em; text-align: center; vertical-align: top\">(intercept)</td>\n",
       "        <td style=\"padding-left: 1em; padding-right: 1em; text-align: center; vertical-align: top\">None</td>\n",
       "        <td style=\"padding-left: 1em; padding-right: 1em; text-align: center; vertical-align: top\">76219.9038385</td>\n",
       "        <td style=\"padding-left: 1em; padding-right: 1em; text-align: center; vertical-align: top\">4907.88977574</td>\n",
       "    </tr>\n",
       "    <tr>\n",
       "        <td style=\"padding-left: 1em; padding-right: 1em; text-align: center; vertical-align: top\">size</td>\n",
       "        <td style=\"padding-left: 1em; padding-right: 1em; text-align: center; vertical-align: top\">None</td>\n",
       "        <td style=\"padding-left: 1em; padding-right: 1em; text-align: center; vertical-align: top\">1045.24028266</td>\n",
       "        <td style=\"padding-left: 1em; padding-right: 1em; text-align: center; vertical-align: top\">50.6888120576</td>\n",
       "    </tr>\n",
       "</table>\n",
       "[2 rows x 4 columns]<br/>\n",
       "</div>"
      ],
      "text/plain": [
       "Columns:\n",
       "\tname\tstr\n",
       "\tindex\tstr\n",
       "\tvalue\tfloat\n",
       "\tstderr\tfloat\n",
       "\n",
       "Rows: 2\n",
       "\n",
       "Data:\n",
       "+-------------+-------+---------------+---------------+\n",
       "|     name    | index |     value     |     stderr    |\n",
       "+-------------+-------+---------------+---------------+\n",
       "| (intercept) |  None | 76219.9038385 | 4907.88977574 |\n",
       "|     size    |  None | 1045.24028266 | 50.6888120576 |\n",
       "+-------------+-------+---------------+---------------+\n",
       "[2 rows x 4 columns]"
      ]
     },
     "execution_count": 9,
     "metadata": {},
     "output_type": "execute_result"
    }
   ],
   "source": [
    "size_model.get('coefficients')"
   ]
  },
  {
   "cell_type": "markdown",
   "metadata": {},
   "source": [
    "### Visualise f1_model on test data"
   ]
  },
  {
   "cell_type": "code",
   "execution_count": 10,
   "metadata": {},
   "outputs": [
    {
     "data": {
      "text/plain": [
       "<matplotlib.text.Text at 0x11c85e8d0>"
      ]
     },
     "execution_count": 10,
     "metadata": {},
     "output_type": "execute_result"
    },
    {
     "data": {
      "image/png": "[encoded data removed]",
      "text/plain": [
       "<matplotlib.figure.Figure at 0x11c513710>"
      ]
     },
     "metadata": {},
     "output_type": "display_data"
    }
   ],
   "source": [
    "import matplotlib.pyplot as plt\n",
    "%matplotlib inline\n",
    "plt.plot(test_data['size'], test_data['salePrice'],',',\n",
    "        test_data['size'], size_model.predict(test_data), '-')\n",
    "plt.title('Size vs Price')\n",
    "# 1st line = Real prices on test data\n",
    "# 2nd line = Predicted prices from Model on test data"
   ]
  },
  {
   "cell_type": "code",
   "execution_count": 11,
   "metadata": {},
   "outputs": [
    {
     "data": {
      "application/javascript": [
       "$(\"head\").append($(\"<link/>\").attr({\n",
       "  rel:  \"stylesheet\",\n",
       "  type: \"text/css\",\n",
       "  href: \"//cdnjs.cloudflare.com/ajax/libs/font-awesome/4.1.0/css/font-awesome.min.css\"\n",
       "}));\n",
       "$(\"head\").append($(\"<link/>\").attr({\n",
       "  rel:  \"stylesheet\",\n",
       "  type: \"text/css\",\n",
       "  href: \"https://static.turi.com/products/graphlab-create/2.1/canvas/css/canvas.css\"\n",
       "}));\n",
       "\n",
       "            (function(){\n",
       "\n",
       "                var e = null;\n",
       "                if (typeof element == 'undefined') {\n",
       "                    var scripts = document.getElementsByTagName('script');\n",
       "                    var thisScriptTag = scripts[scripts.length-1];\n",
       "                    var parentDiv = thisScriptTag.parentNode;\n",
       "                    e = document.createElement('div');\n",
       "                    parentDiv.appendChild(e);\n",
       "                } else {\n",
       "                    e = element[0];\n",
       "                }\n",
       "\n",
       "                if (typeof requirejs !== 'undefined') {\n",
       "                    // disable load timeout; ipython_app.js is large and can take a while to load.\n",
       "                    requirejs.config({waitSeconds: 0});\n",
       "                }\n",
       "\n",
       "                require(['https://static.turi.com/products/graphlab-create/2.1/canvas/js/ipython_app.js'], function(IPythonApp){\n",
       "                    var app = new IPythonApp();\n",
       "                    app.attachView('sframe','Plots', {\"selected_variable\": {\"name\": [\"oulu_sales\"], \"descriptives\": {\"rows\": 1381, \"columns\": 10}, \"view_component\": \"Plots\", \"view_file\": \"sframe\", \"view_params\": {\"y\": \"salePrice\", \"x\": \"postcode\", \"columns\": [\"id\", \"address\", \"pricePerSqm\", \"yearBuilt\", \"sourceLink\", \"salePrice\", \"size\", \"roomInfo\", \"houseType\", \"postcode\"], \"view\": \"BoxWhisker Plot\"}, \"view_components\": [\"Summary\", \"Table\", \"Bar Chart\", \"BoxWhisker Plot\", \"Line Chart\", \"Scatter Plot\", \"Heat Map\", \"Plots\"], \"type\": \"SFrame\", \"columns\": [{\"dtype\": \"int\", \"name\": \"id\"}, {\"dtype\": \"str\", \"name\": \"address\"}, {\"dtype\": \"int\", \"name\": \"pricePerSqm\"}, {\"dtype\": \"int\", \"name\": \"yearBuilt\"}, {\"dtype\": \"str\", \"name\": \"sourceLink\"}, {\"dtype\": \"float\", \"name\": \"salePrice\"}, {\"dtype\": \"float\", \"name\": \"size\"}, {\"dtype\": \"str\", \"name\": \"roomInfo\"}, {\"dtype\": \"str\", \"name\": \"houseType\"}, {\"dtype\": \"int\", \"name\": \"postcode\"}], \"column_identifiers\": [\"pricePerSqm\", \"roomInfo\", \"sourceLink\", \"houseType\", \"yearBuilt\", \"salePrice\", \"address\", \"size\", \"id\", \"postcode\"]}, \"complete\": 1, \"ipython\": true, \"progress\": 1.0, \"data\": {\"grouped\": [[90100, [18448.48, 18761.13, 117500.0, 119000.0, 148590.0, 187000.0, 248600.0, 325000.0, 325000.0, 519700.0, 620000.0]], [90120, [88000.0, 89000.0, 112500.0, 112500.0, 134500.0, 169000.0, 213000.0, 238000.0, 239300.0, 289000.0, 390000.0]], [90130, [98000.0, 98000.0, 108800.0, 108800.0, 136000.0, 208600.0, 225000.0, 459000.0, 459000.0, 472000.0, 472000.0]], [90140, [59000.0, 59000.0, 89000.0, 89000.0, 159000.0, 252630.0, 341880.0, 373380.0, 373380.0, 395000.0, 395000.0]], [90150, [72000.0, 72000.0, 85000.0, 85000.0, 132000.0, 164900.0, 259900.0, 319900.0, 319900.0, 359900.0, 359900.0]], [90160, [9997.67, 9997.67, 65000.0, 65000.0, 75824.0, 92688.0, 109000.0, 175000.0, 175000.0, 199000.0, 199000.0]], [90210, [79500.0, 79500.0, 79500.0, 79500.0, 79500.0, 79500.0, 79500.0, 79500.0, 79500.0, 79500.0, 79500.0]], [90230, [11914.63, 11914.63, 124000.0, 124000.0, 165000.0, 226000.0, 309000.0, 485000.0, 485000.0, 572000.0, 572000.0]], [90240, [21341.0, 21341.0, 85900.0, 92000.0, 114000.0, 157000.0, 225000.0, 349000.0, 395000.0, 569000.0, 569000.0]], [90250, [13590.55, 13590.55, 49500.0, 49500.0, 74000.0, 108000.0, 126000.0, 169900.0, 172900.0, 275000.0, 275000.0]], [90310, [15095.56, 15095.56, 37999.0, 37999.0, 89500.0, 119800.0, 335000.0, 549000.0, 549000.0, 728000.0, 728000.0]], [90400, [126900.0, 126900.0, 145400.0, 145800.0, 151400.0, 172400.0, 205000.0, 220300.0, 239000.0, 492300.0, 492300.0]], [90410, [89500.0, 89500.0, 89500.0, 89500.0, 114000.0, 244500.0, 258000.0, 469000.0, 469000.0, 469000.0, 469000.0]], [90420, [13088.84, 13088.84, 19352.83, 19352.83, 88000.0, 132000.0, 178500.0, 259000.0, 259000.0, 284000.0, 284000.0]], [90460, [17460.6, 17460.6, 78000.0, 78000.0, 96000.0, 132000.0, 159000.0, 198380.0, 198380.0, 295000.0, 295000.0]], [90470, [89000.0, 89000.0, 89000.0, 119000.0, 123000.0, 185000.0, 259000.0, 290000.0, 1100000.0, 1100000.0, 1100000.0]], [90500, [49000.0, 49000.0, 65990.0, 79500.0, 98700.0, 125000.0, 219000.0, 424900.0, 465000.0, 755000.0, 755000.0]], [90520, [7706.1, 7900.37, 17100.28, 20750.49, 119900.0, 154000.0, 207911.0, 276800.0, 299000.0, 451250.0, 451250.0]], [90530, [15486.87, 15486.87, 72000.0, 72000.0, 94000.0, 127900.0, 224500.0, 277000.0, 277000.0, 460000.0, 460000.0]], [90540, [72500.0, 72500.0, 89000.0, 92500.0, 123000.0, 159800.0, 210000.0, 339000.0, 374000.0, 386000.0, 386000.0]], [90550, [6999.71, 6999.71, 12427.73, 55000.0, 79800.0, 89000.0, 119000.0, 222000.0, 269000.0, 295000.0, 295000.0]], [90560, [53500.0, 53500.0, 64000.0, 67000.0, 78000.0, 99000.0, 145000.0, 159000.0, 162000.0, 168000.0, 168000.0]], [90570, [17103.21, 17103.21, 97000.0, 97000.0, 104500.0, 108500.0, 116000.0, 143000.0, 143000.0, 348000.0, 348000.0]], [90580, [51025.0, 51025.0, 59000.0, 69000.0, 84000.0, 99800.0, 139000.0, 157000.0, 189000.0, 358000.0, 358000.0]], [90590, [129000.0, 129000.0, 129000.0, 129000.0, 145000.0, 358000.0, 385000.0, 670000.0, 670000.0, 670000.0, 670000.0]], [90620, [83000.0, 83000.0, 83000.0, 159900.0, 170700.0, 339700.0, 443900.0, 479900.0, 597000.0, 597000.0, 597000.0]], [90630, [16685.58, 16685.58, 17108.59, 21444.4, 99000.0, 131000.0, 151000.0, 205000.0, 210000.0, 219000.0, 219000.0]], [90650, [39000.0, 39000.0, 79000.0, 82000.0, 98000.0, 182000.0, 224900.0, 298000.0, 342000.0, 890000.0, 890000.0]], [90800, [10781.17, 10781.17, 14412.28, 14512.78, 69500.0, 137000.0, 182000.0, 237000.0, 259000.0, 363000.0, 363000.0]], [90810, [12198.08, 12198.08, 59500.0, 59500.0, 79000.0, 129000.0, 197000.0, 237600.0, 237600.0, 319000.0, 319000.0]], [90820, [25388.71, 25388.71, 25388.71, 25388.71, 75000.0, 84900.0, 107500.0, 107500.0, 107500.0, 107500.0, 107500.0]], [90830, [65000.0, 65000.0, 80000.0, 80000.0, 119900.0, 179000.0, 199500.0, 265000.0, 265000.0, 339000.0, 339000.0]], [90840, [126000.0, 126000.0, 126000.0, 126000.0, 141000.0, 169000.0, 179000.0, 298000.0, 298000.0, 298000.0, 298000.0]], [90850, [25000.0, 25000.0, 25000.0, 25000.0, 34000.0, 47000.0, 97000.0, 165000.0, 165000.0, 248000.0, 248000.0]], [90860, [121000.0, 121000.0, 121000.0, 121000.0, 121000.0, 198000.0, 198000.0, 198000.0, 198000.0, 198000.0, 198000.0]], [90900, [42000.0, 42000.0, 60000.0, 63000.0, 82000.0, 114700.0, 146900.0, 198000.0, 269000.0, 325000.0, 325000.0]], [90910, [225000.0, 225000.0, 225000.0, 225000.0, 225000.0, 225000.0, 225000.0, 225000.0, 225000.0, 225000.0, 225000.0]], [90940, [62000.0, 62000.0, 78000.0, 78000.0, 98000.0, 127000.0, 178500.0, 219000.0, 219000.0, 320000.0, 320000.0]], [91200, [34500.0, 34500.0, 34500.0, 34500.0, 79000.0, 159000.0, 198000.0, 198000.0, 198000.0, 198000.0, 198000.0]], [91210, [69000.0, 69000.0, 69000.0, 69000.0, 69000.0, 69000.0, 69000.0, 69000.0, 69000.0, 69000.0, 69000.0]], [91240, [43000.0, 43000.0, 43000.0, 43000.0, 43000.0, 44000.0, 44000.0, 44000.0, 44000.0, 44000.0, 44000.0]], [91260, [28900.0, 28900.0, 28900.0, 28900.0, 28900.0, 28900.0, 28900.0, 28900.0, 28900.0, 28900.0, 28900.0]], [91300, [59000.0, 59000.0, 59000.0, 59000.0, 100000.0, 129500.0, 139000.0, 189000.0, 189000.0, 189000.0, 189000.0]], [91310, [49800.0, 49800.0, 49800.0, 49800.0, 49800.0, 49800.0, 49800.0, 49800.0, 49800.0, 49800.0, 49800.0]]], \"omitted\": 0}, \"columns\": [{\"dtype\": \"int\", \"name\": \"id\"}, {\"dtype\": \"str\", \"name\": \"address\"}, {\"dtype\": \"int\", \"name\": \"pricePerSqm\"}, {\"dtype\": \"int\", \"name\": \"yearBuilt\"}, {\"dtype\": \"str\", \"name\": \"sourceLink\"}, {\"dtype\": \"float\", \"name\": \"salePrice\"}, {\"dtype\": \"float\", \"name\": \"size\"}, {\"dtype\": \"str\", \"name\": \"roomInfo\"}, {\"dtype\": \"str\", \"name\": \"houseType\"}, {\"dtype\": \"int\", \"name\": \"postcode\"}]}, e);\n",
       "                });\n",
       "            })();\n",
       "        "
      ]
     },
     "metadata": {},
     "output_type": "display_data"
    }
   ],
   "source": [
    "gl.canvas.set_target('ipynb')\n",
    "oulu_sales.show(view='BoxWhisker Plot', x='postcode', y='salePrice')"
   ]
  },
  {
   "cell_type": "markdown",
   "metadata": {},
   "source": [
    "#### Graphlab Img on BoxWhisker Plot"
   ]
  },
  {
   "cell_type": "markdown",
   "metadata": {},
   "source": [
    "<img src=\"./datasets/graphlabimgs/whiskerPlot.png\">"
   ]
  },
  {
   "cell_type": "code",
   "execution_count": 12,
   "metadata": {},
   "outputs": [
    {
     "data": {
      "application/javascript": [
       "$(\"head\").append($(\"<link/>\").attr({\n",
       "  rel:  \"stylesheet\",\n",
       "  type: \"text/css\",\n",
       "  href: \"//cdnjs.cloudflare.com/ajax/libs/font-awesome/4.1.0/css/font-awesome.min.css\"\n",
       "}));\n",
       "$(\"head\").append($(\"<link/>\").attr({\n",
       "  rel:  \"stylesheet\",\n",
       "  type: \"text/css\",\n",
       "  href: \"https://static.turi.com/products/graphlab-create/2.1/canvas/css/canvas.css\"\n",
       "}));\n",
       "\n",
       "            (function(){\n",
       "\n",
       "                var e = null;\n",
       "                if (typeof element == 'undefined') {\n",
       "                    var scripts = document.getElementsByTagName('script');\n",
       "                    var thisScriptTag = scripts[scripts.length-1];\n",
       "                    var parentDiv = thisScriptTag.parentNode;\n",
       "                    e = document.createElement('div');\n",
       "                    parentDiv.appendChild(e);\n",
       "                } else {\n",
       "                    e = element[0];\n",
       "                }\n",
       "\n",
       "                if (typeof requirejs !== 'undefined') {\n",
       "                    // disable load timeout; ipython_app.js is large and can take a while to load.\n",
       "                    requirejs.config({waitSeconds: 0});\n",
       "                }\n",
       "\n",
       "                require(['https://static.turi.com/products/graphlab-create/2.1/canvas/js/ipython_app.js'], function(IPythonApp){\n",
       "                    var app = new IPythonApp();\n",
       "                    app.attachView('sframe','Plots', {\"selected_variable\": {\"name\": [\"oulu_sales\"], \"descriptives\": {\"rows\": 1381, \"columns\": 10}, \"view_component\": \"Plots\", \"view_file\": \"sframe\", \"view_params\": {\"y\": \"salePrice\", \"x\": \"size\", \"columns\": [\"id\", \"address\", \"pricePerSqm\", \"yearBuilt\", \"sourceLink\", \"salePrice\", \"size\", \"roomInfo\", \"houseType\", \"postcode\"], \"view\": \"Scatter Plot\"}, \"view_components\": [\"Summary\", \"Table\", \"Bar Chart\", \"BoxWhisker Plot\", \"Line Chart\", \"Scatter Plot\", \"Heat Map\", \"Plots\"], \"type\": \"SFrame\", \"columns\": [{\"dtype\": \"int\", \"name\": \"id\"}, {\"dtype\": \"str\", \"name\": \"address\"}, {\"dtype\": \"int\", \"name\": \"pricePerSqm\"}, {\"dtype\": \"int\", \"name\": \"yearBuilt\"}, {\"dtype\": \"str\", \"name\": \"sourceLink\"}, {\"dtype\": \"float\", \"name\": \"salePrice\"}, {\"dtype\": \"float\", \"name\": \"size\"}, {\"dtype\": \"str\", \"name\": \"roomInfo\"}, {\"dtype\": \"str\", \"name\": \"houseType\"}, {\"dtype\": \"int\", \"name\": \"postcode\"}], \"column_identifiers\": [\"pricePerSqm\", \"roomInfo\", \"sourceLink\", \"houseType\", \"yearBuilt\", \"salePrice\", \"address\", \"size\", \"id\", \"postcode\"]}, \"complete\": 1, \"ipython\": true, \"progress\": 1.0, \"data\": [[44.5, 99962.0], [50.5, 83500.0], [57.0, 194100.0], [75.0, 93000.0], [55.0, 15095.56], [84.0, 22836.99], [98.0, 424900.0], [97.0, 179000.0], [90.5, 298000.0], [55.0, 72000.0], [85.0, 120000.0], [46.0, 57500.0], [90.0, 150000.0], [76.0, 148000.0], [49.5, 150000.0], [62.5, 74900.0], [81.5, 292000.0], [145.0, 254000.0], [107.0, 179000.0], [99.0, 149000.0], [138.5, 225000.0], [81.5, 151000.0], [63.0, 85000.0], [116.0, 145000.0], [224.0, 289000.0], [78.0, 99500.0], [87.0, 149000.0], [63.0, 59000.0], [172.0, 275000.0], [81.0, 75000.0], [78.0, 222000.0], [87.0, 259000.0], [55.0, 65000.0], [43.0, 123000.0], [72.5, 149812.42], [63.0, 154900.0], [59.5, 19392.45], [60.0, 113000.0], [73.5, 18168.47], [59.0, 92500.0], [61.5, 79800.0], [105.0, 235000.0], [98.0, 156000.0], [80.0, 95000.0], [44.5, 161500.0], [250.0, 268500.0], [71.5, 92000.0], [83.0, 104500.0], [76.0, 126000.0], [75.5, 108000.0], [69.0, 158000.0], [66.5, 160675.0], [108.0, 129000.0], [63.5, 75824.0], [79.5, 59000.0], [149.0, 198000.0], [138.0, 284000.0], [99.0, 128000.0], [57.5, 114700.0], [55.0, 69500.0], [60.0, 81800.0], [100.0, 158500.0], [70.0, 128000.0], [120.0, 129000.0], [85.0, 20359.09], [54.5, 92688.0], [78.5, 124000.0], [119.0, 150000.0], [44.0, 154900.0], [81.5, 89000.0], [56.0, 73000.0], [160.0, 295000.0], [51.0, 129000.0], [88.5, 88000.0], [115.0, 229000.0], [343.0, 198000.0], [115.5, 137000.0], [71.0, 224900.0], [69.0, 99000.0], [79.0, 85000.0], [70.0, 154000.0], [140.5, 198000.0], [82.0, 252000.0], [44.5, 124000.0], [115.0, 89000.0], [45.0, 99000.0], [35.0, 46500.0], [77.0, 126000.0], [57.0, 18761.13], [140.0, 130000.0], [108.0, 135000.0], [71.0, 217000.0], [100.0, 99000.0], [90.5, 122893.0], [65.0, 78500.0], [34.5, 112900.0], [24.0, 89900.0], [72.0, 135000.0], [96.5, 468200.0], [64.0, 219000.0], [143.0, 298000.0], [71.0, 224900.0], [165.0, 139000.0], [53.0, 158000.0], [78.0, 99000.0], [78.0, 159000.0], [63.0, 175000.0], [78.5, 361100.0], [42.0, 186900.0], [36.0, 156600.0], [92.0, 219000.0], [74.5, 335250.0], [80.0, 85000.0], [62.0, 122000.0], [87.0, 134900.0], [67.0, 359000.0], [28.5, 119900.0], [42.5, 172125.0], [70.0, 137000.0], [87.0, 182000.0], [81.0, 65000.0], [57.5, 110000.0], [36.0, 78000.0], [126.5, 219000.0], [70.0, 122000.0], [79.0, 99500.0], [100.0, 169000.0], [26.0, 117600.0], [200.0, 275000.0], [103.0, 285000.0], [105.0, 249000.0], [93.5, 199500.0], [113.0, 125000.0], [77.0, 134000.0], [100.0, 231000.0], [92.0, 319900.0], [61.5, 165000.0], [99.0, 129000.0], [74.0, 185000.0], [188.0, 199000.0], [78.0, 87000.0], [147.8, 235000.0], [58.0, 55000.0], [34.0, 25000.0], [177.0, 339000.0], [56.5, 92000.0], [55.0, 119000.0], [80.5, 199000.0], [99.0, 259000.0], [84.0, 195800.0], [55.0, 91000.0], [103.5, 157000.0], [81.5, 80000.0], [99.0, 158000.0], [81.5, 216000.0], [61.5, 181000.0], [73.5, 98000.0], [75.0, 125000.0], [81.0, 21444.4], [83.0, 174000.0], [61.0, 167500.0], [80.0, 84000.0], [61.5, 196000.0], [146.7, 270000.0], [79.5, 259900.0], [45.5, 126900.0], [116.0, 189000.0], [79.0, 71900.0], [35.5, 138500.0], [179.0, 349000.0], [140.0, 79000.0], [155.0, 439000.0], [82.0, 187400.0], [164.0, 164000.0], [59.5, 159900.0], [115.0, 115000.0], [63.0, 165000.0], [124.0, 258000.0], [83.5, 175000.0], [47.0, 13538.07], [84.0, 193000.0], [88.5, 204400.0], [88.5, 204400.0], [88.5, 204400.0], [88.5, 204400.0], [100.0, 231000.0], [78.0, 124500.0], [113.0, 119500.0], [65.0, 109000.0], [95.0, 89000.0], [93.5, 199500.0], [61.5, 170000.0], [61.5, 58000.0], [67.0, 108000.0], [76.5, 38000.0], [99.0, 199500.0], [140.0, 165000.0], [65.0, 68000.0], [69.0, 169000.0], [67.0, 148990.0], [67.0, 148990.0], [147.0, 378000.0], [81.0, 126000.0], [104.0, 229000.0], [160.0, 174000.0], [220.0, 295000.0], [63.0, 114000.0], [79.5, 127000.0], [68.0, 185000.0], [78.5, 21715.67], [32.5, 106900.0], [81.0, 374900.0], [32.5, 106900.0], [32.5, 106900.0], [27.0, 109700.0], [82.7, 138000.0], [41.0, 145900.0], [58.5, 179600.0], [53.0, 118500.0], [156.0, 138500.0], [35.5, 134500.0], [26.0, 108990.0], [26.0, 108990.0], [26.0, 110990.0], [31.5, 110990.0], [59.0, 189000.0], [74.5, 23040.67], [101.5, 70000.0], [120.0, 149000.0], [30.5, 120990.0], [25.0, 104500.0], [21.5, 108500.0], [21.5, 104500.0], [21.5, 108500.0], [22.5, 112500.0], [25.0, 108500.0], [21.5, 108500.0], [21.5, 104500.0], [22.5, 114500.0], [21.5, 104000.0], [22.5, 110500.0], [21.5, 104500.0], [132.5, 451250.0], [21.5, 104500.0], [21.5, 104500.0], [21.5, 104500.0], [21.5, 104500.0], [22.5, 114500.0], [21.5, 108500.0], [27.5, 49500.0], [118.0, 189000.0], [138.0, 238000.0], [114.0, 130000.0], [158.0, 215000.0], [50.0, 189700.0], [123.0, 274000.0], [120.0, 219000.0], [62.0, 230000.0], [67.0, 104000.0], [88.3, 194675.0], [119.0, 79000.0], [97.0, 219000.0], [98.0, 149900.0], [66.0, 123000.0], [75.0, 118000.0], [84.5, 98000.0], [153.0, 205000.0], [87.0, 21341.0], [57.0, 18448.48], [64.0, 9997.67], [81.5, 12198.08], [54.0, 105000.0], [76.0, 83000.0], [119.0, 149000.0], [37.5, 170700.0], [110.0, 208000.0], [26.0, 124500.0], [95.0, 85000.0], [63.0, 56700.0], [65.5, 243700.0], [57.0, 69750.0], [110.0, 175000.0], [133.0, 282000.0], [78.0, 118000.0], [184.0, 325000.0], [166.0, 265000.0], [46.5, 89000.0], [83.0, 17399.11], [47.5, 34000.0], [112.0, 129000.0], [44.5, 149400.0], [71.0, 87700.0], [110.0, 197000.0], [53.0, 97000.0], [75.0, 112500.0], [225.0, 299000.0], [63.0, 119500.0], [54.0, 89000.0], [37.5, 49000.0], [82.0, 149000.0], [98.0, 424900.0], [119.0, 151000.0], [26.0, 112500.0], [79.5, 119500.0], [55.5, 14412.28], [74.0, 17103.21], [47.5, 142000.0], [75.0, 386000.0], [47.5, 136500.0], [73.5, 80000.0], [70.0, 169000.0], [71.5, 145000.0], [71.0, 109000.0], [218.0, 198000.0], [47.0, 13975.98], [181.5, 289000.0], [49.0, 88000.0], [96.0, 85000.0], [75.5, 98700.0], [148.0, 348000.0], [21.5, 101300.0], [77.0, 94000.0], [45.0, 155500.0], [74.0, 117500.0], [115.0, 265000.0], [63.5, 171734.0], [132.0, 186000.0], [56.5, 49000.0], [93.5, 149500.0], [75.5, 129000.0], [254.0, 569000.0], [75.0, 22480.63], [46.0, 13590.55], [127.0, 289000.0], [53.0, 89500.0], [53.0, 164000.0], [113.5, 208000.0], [77.5, 78000.0], [115.5, 422750.0], [41.0, 51250.0], [85.0, 169000.0], [82.5, 122000.0], [77.5, 127000.0], [80.5, 267400.0], [74.0, 153920.0], [96.0, 63000.0], [89.5, 21555.18], [151.6, 255000.0], [120.0, 100000.0], [90.0, 80000.0], [290.0, 183000.0], [43.5, 165300.0], [63.0, 156900.0], [55.0, 16685.58], [53.0, 94000.0], [75.0, 131000.0], [50.0, 98000.0], [77.0, 325000.0], [29.5, 58000.0], [51.5, 125000.0], [47.0, 164900.0], [178.0, 335000.0], [226.5, 290000.0], [96.0, 177000.0], [52.0, 85900.0], [82.5, 149000.0], [69.5, 169000.0], [32.5, 129500.0], [58.5, 75000.0], [72.5, 123000.0], [45.5, 141000.0], [97.0, 85160.29], [44.5, 163500.0], [47.5, 12639.32], [75.5, 130000.0], [118.0, 179000.0], [53.0, 182000.0], [49.0, 107500.0], [46.0, 87500.0], [71.0, 123000.0], [62.0, 119900.0], [103.5, 165000.0], [115.5, 422750.0], [146.0, 670032.0], [76.5, 78000.0], [70.5, 119900.0], [160.0, 157000.0], [76.5, 148000.0], [105.5, 157000.0], [76.5, 52000.0], [59.0, 78000.0], [162.0, 549000.0], [65.0, 89000.0], [73.0, 99000.0], [85.5, 137000.0], [74.5, 123000.0], [93.0, 142000.0], [122.0, 169000.0], [56.5, 258000.0], [120.0, 129000.0], [149.0, 369000.0], [92.0, 109000.0], [75.0, 139500.0], [125.0, 199000.0], [61.5, 176000.0], [65.0, 78000.0], [77.0, 99000.0], [187.0, 295000.0], [62.5, 99000.0], [210.0, 229000.0], [79.5, 443900.0], [65.0, 94000.0], [91.0, 198380.0], [91.0, 198380.0], [99.0, 199000.0], [75.5, 89000.0], [44.0, 149900.0], [53.5, 120000.0], [61.0, 89000.0], [76.5, 38000.0], [53.0, 154000.0], [89.0, 299900.0], [86.5, 124000.0], [62.0, 299000.0], [75.5, 226500.0], [75.5, 199995.0], [122.0, 259000.0], [72.5, 149000.0], [85.5, 299995.0], [108.0, 373380.0], [89.0, 329900.0], [68.5, 252630.0], [68.5, 245070.0], [50.0, 109000.0], [97.5, 341880.0], [85.5, 299995.0], [60.0, 99800.0], [54.5, 189400.0], [39.0, 155400.0], [170.0, 212000.0], [118.0, 239000.0], [186.1, 395000.0], [273.0, 684000.0], [39.0, 148800.0], [169.0, 572000.0], [54.5, 177800.0], [46.0, 167800.0], [26.0, 112500.0], [49.0, 172400.0], [39.0, 146400.0], [60.5, 206800.0], [37.0, 138400.0], [47.0, 168400.0], [60.0, 215800.0], [39.0, 155400.0], [54.5, 184400.0], [99.0, 125000.0], [46.0, 170800.0], [61.5, 79900.0], [93.0, 135000.0], [110.0, 218000.0], [110.0, 115000.0], [54.5, 179800.0], [46.0, 164800.0], [46.0, 159800.0], [47.0, 163400.0], [40.0, 145400.0], [60.5, 199800.0], [63.0, 149000.0], [73.0, 235000.0], [60.0, 109500.0], [27.5, 98500.0], [34.5, 109900.0], [72.5, 124000.0], [208.0, 395000.0], [103.0, 157000.0], [98.0, 99800.0], [63.2, 89500.0], [220.0, 479000.0], [80.0, 82000.0], [105.0, 146900.0], [39.0, 178800.0], [24.0, 142400.0], [44.0, 184400.0], [51.0, 208600.0], [39.0, 181700.0], [58.0, 209500.0], [92.0, 77000.0], [77.0, 85000.0], [50.5, 203500.0], [140.0, 89000.0], [47.0, 169900.0], [24.0, 144000.0], [39.5, 183300.0], [25.5, 144900.0], [25.0, 128700.0], [36.0, 166500.0], [40.5, 180900.0], [51.0, 212600.0], [98.0, 150000.0], [39.5, 142500.0], [33.0, 130100.0], [39.5, 189900.0], [25.5, 146500.0], [36.0, 169700.0], [25.0, 130000.0], [40.5, 184300.0], [51.0, 216600.0], [44.0, 195300.0], [24.0, 146900.0], [39.5, 190400.0], [39.5, 193500.0], [51.0, 222600.0], [36.0, 172900.0], [25.5, 148100.0], [40.5, 187800.0], [25.0, 131300.0], [44.0, 199900.0], [24.0, 150100.0], [39.5, 198900.0], [39.5, 195600.0], [25.5, 151000.0], [40.5, 202200.0], [25.0, 138800.0], [107.0, 110000.0], [51.0, 239300.0], [39.5, 209600.0], [39.5, 206200.0], [24.0, 155800.0], [25.5, 156900.0], [25.0, 142700.0], [100.0, 225990.0], [36.0, 177700.0], [51.0, 230900.0], [25.0, 133700.0], [40.5, 193000.0], [67.0, 114500.0], [24.0, 153000.0], [39.5, 204900.0], [36.0, 184300.0], [39.5, 199900.0], [25.5, 154000.0], [51.0, 249900.0], [77.0, 346300.0], [36.0, 191100.0], [39.5, 216800.0], [40.5, 218900.0], [39.5, 213300.0], [25.0, 147800.0], [36.0, 199500.0], [25.5, 161100.0], [51.0, 260700.0], [82.0, 125000.0], [39.5, 224000.0], [65.0, 110000.0], [25.5, 161900.0], [36.0, 210100.0], [40.5, 228300.0], [25.0, 151500.0], [55.0, 15109.24], [86.5, 492300.0], [82.0, 129900.0], [51.0, 129000.0], [63.5, 119000.0], [110.0, 218000.0], [87.5, 239500.0], [61.5, 188000.0], [185.0, 269000.0], [76.0, 75000.0], [66.5, 199000.0], [322.0, 490000.0], [63.0, 89000.0], [61.0, 102000.0], [52.0, 83000.0], [89.0, 439000.0], [89.0, 274900.0], [185.0, 363000.0], [67.5, 128000.0], [69.5, 295000.0], [200.0, 320000.0], [80.0, 109000.0], [148.5, 309000.0], [125.0, 244500.0], [71.0, 168000.0], [76.0, 109900.0], [95.5, 224500.0], [44.0, 164900.0], [74.0, 199200.0], [133.0, 175000.0], [80.0, 99400.0], [80.2, 84900.0], [63.0, 285000.0], [69.5, 159800.0], [69.5, 159800.0], [81.5, 216000.0], [69.5, 159800.0], [45.0, 13126.06], [60.5, 16676.71], [50.0, 43000.0], [86.5, 144000.0], [110.0, 155000.0], [70.0, 205000.0], [137.5, 329000.0], [78.5, 75000.0], [56.5, 14512.78], [88.5, 239500.0], [148.0, 280000.0], [110.0, 178500.0], [94.0, 190000.0], [43.0, 59000.0], [30.0, 52000.0], [121.5, 119800.0], [106.0, 154000.0], [95.5, 129000.0], [123.0, 208000.0], [60.0, 97000.0], [88.5, 334900.0], [194.0, 269000.0], [109.0, 159800.0], [49.5, 154000.0], [53.0, 151000.0], [143.0, 168000.0], [91.0, 138000.0], [77.0, 108900.0], [102.5, 510000.0], [144.5, 398000.0], [151.0, 229000.0], [109.5, 249000.0], [78.0, 129800.0], [75.5, 12427.73], [30.0, 49500.0], [85.0, 193000.0], [50.0, 134000.0], [66.5, 89600.0], [167.0, 359000.0], [72.0, 124800.0], [76.5, 113500.0], [68.5, 19352.83], [54.0, 49800.0], [34.0, 73800.0], [118.0, 249700.0], [92.0, 74000.0], [119.0, 189800.0], [42.0, 89000.0], [119.0, 79000.0], [144.0, 222000.0], [55.8, 79000.0], [89.5, 239000.0], [79.5, 109000.0], [134.0, 597000.0], [75.1, 60000.0], [63.0, 159000.0], [96.0, 141000.0], [26.0, 117950.0], [120.0, 469000.0], [65.0, 84000.0], [140.0, 189000.0], [74.0, 114000.0], [76.5, 108500.0], [77.0, 205000.0], [80.0, 129900.0], [100.0, 156000.0], [66.0, 119000.0], [77.0, 129500.0], [29.0, 116000.0], [181.0, 384000.0], [45.5, 136000.0], [78.5, 311000.0], [45.0, 17168.77], [78.0, 116000.0], [81.5, 84900.0], [57.0, 67000.0], [114.0, 129000.0], [46.0, 74000.0], [172.0, 289000.0], [77.0, 292000.0], [77.0, 325000.0], [69.5, 295000.0], [154.0, 225000.0], [56.5, 268000.0], [31.0, 122900.0], [100.0, 144000.0], [103.0, 25388.71], [81.5, 220000.0], [96.5, 258900.0], [108.0, 178500.0], [79.5, 89500.0], [74.0, 158500.0], [77.0, 18982.13], [101.0, 146500.0], [747.0, 1100000.0], [38.5, 10781.17], [60.5, 79000.0], [52.0, 99000.0], [164.0, 670000.0], [80.0, 122000.0], [97.0, 154000.0], [120.0, 95000.0], [75.5, 85000.0], [41.0, 146000.0], [45.5, 154500.0], [45.5, 158500.0], [45.5, 162500.0], [45.5, 166500.0], [30.0, 50900.0], [73.5, 218000.0], [49.5, 159000.0], [34.0, 25000.0], [73.5, 134000.0], [65.0, 203000.0], [100.0, 189000.0], [80.5, 238000.0], [65.0, 208000.0], [62.0, 208000.0], [50.0, 170000.0], [80.5, 242000.0], [58.0, 85000.0], [82.0, 75000.0], [65.0, 211000.0], [50.5, 178500.0], [64.5, 217000.0], [45.5, 170500.0], [45.5, 197500.0], [59.0, 34500.0], [98.5, 390000.0], [110.0, 175000.0], [64.0, 56000.0], [80.0, 85000.0], [69.5, 159800.0], [650.0, 198000.0], [92.0, 299900.0], [120.0, 129500.0], [80.0, 105000.0], [53.0, 97000.0], [32.5, 39000.0], [111.0, 224000.0], [90.5, 395000.0], [61.0, 104000.0], [92.5, 279900.0], [123.5, 248000.0], [80.0, 126000.0], [76.0, 116000.0], [62.5, 92000.0], [81.5, 105000.0], [67.0, 148990.0], [105.0, 235000.0], [67.0, 148990.0], [53.0, 154000.0], [80.0, 98000.0], [137.0, 189000.0], [53.0, 83500.0], [76.0, 72000.0], [110.0, 218000.0], [46.5, 153000.0], [54.0, 17460.6], [32.0, 145500.0], [107.0, 219000.0], [41.0, 143000.0], [129.0, 162000.0], [80.0, 98500.0], [85.0, 175000.0], [61.0, 93500.0], [102.0, 102000.0], [49.5, 146000.0], [102.0, 412100.0], [29.0, 49000.0], [112.0, 159000.0], [54.0, 79000.0], [87.5, 21588.02], [68.0, 92500.0], [26.0, 119500.0], [61.5, 83000.0], [77.0, 339700.0], [26.0, 129500.0], [89.0, 149500.0], [80.0, 125900.0], [65.0, 79000.0], [101.7, 226000.0], [143.5, 139000.0], [80.0, 124900.0], [57.0, 117000.0], [85.5, 254000.0], [70.5, 269500.0], [139.0, 69000.0], [67.0, 129000.0], [93.0, 129000.0], [71.0, 105000.0], [49.0, 212500.0], [78.5, 71500.0], [96.0, 25644.49], [78.0, 109000.0], [73.0, 118500.0], [119.0, 180000.0], [151.0, 335000.0], [230.0, 148000.0], [79.0, 59000.0], [112.0, 465000.0], [61.5, 135000.0], [48.0, 98000.0], [31.0, 54800.0], [108.5, 210000.0], [32.5, 105900.0], [38.5, 10783.3], [52.0, 116000.0], [52.0, 90000.0], [62.5, 96000.0], [46.0, 7900.37], [43.0, 11914.63], [68.0, 129500.0], [95.0, 105000.0], [59.0, 78000.0], [80.0, 175000.0], [47.0, 164900.0], [118.0, 237600.0], [78.5, 109000.0], [115.0, 132000.0], [76.5, 20363.31], [45.5, 144000.0], [118.0, 259000.0], [150.5, 354000.0], [47.5, 69000.0], [254.0, 325000.0], [133.0, 198000.0], [50.5, 12494.97], [35.5, 132900.0], [198.0, 498000.0], [83.0, 79800.0], [125.0, 184000.0], [32.5, 104900.0], [45.5, 133000.0], [83.0, 259900.0], [227.0, 153000.0], [95.0, 217000.0], [75.0, 160000.0], [97.0, 105000.0], [57.5, 212900.0], [67.5, 199500.0], [116.0, 243000.0], [49.5, 119000.0], [52.0, 137000.0], [44.0, 83000.0], [137.5, 329000.0], [75.0, 304600.0], [86.5, 98500.0], [96.5, 455200.0], [86.0, 145000.0], [78.5, 51025.0], [64.0, 134000.0], [90.0, 75000.0], [32.5, 99700.0], [31.0, 127900.0], [69.5, 106000.0], [56.5, 75000.0], [32.0, 127900.0], [26.5, 112500.0], [158.5, 755000.0], [68.5, 108800.0], [44.5, 15486.87], [78.0, 105000.0], [80.0, 49500.0], [86.0, 179000.0], [92.0, 55000.0], [104.0, 94000.0], [80.5, 117900.0], [79.5, 79500.0], [75.5, 126000.0], [78.5, 207911.0], [85.0, 187000.0], [99.0, 159000.0], [48.0, 79500.0], [65.0, 65000.0], [78.0, 69000.0], [61.5, 74500.0], [180.0, 169000.0], [101.0, 121000.0], [60.0, 145000.0], [64.0, 86000.0], [80.0, 87000.0], [64.0, 119000.0], [43.0, 13088.84], [115.0, 192000.0], [138.0, 154860.0], [94.5, 109000.0], [81.0, 144000.0], [211.0, 219000.0], [70.0, 205000.0], [74.5, 37999.0], [99.0, 149000.0], [50.0, 115000.0], [47.0, 59000.0], [70.0, 185479.0], [87.5, 224790.0], [27.5, 61000.0], [99.5, 79000.0], [310.0, 277000.0], [40.5, 122500.0], [252.0, 138000.0], [193.0, 185000.0], [126.0, 298000.0], [50.0, 64000.0], [42.5, 134300.0], [115.5, 134000.0], [82.0, 127000.0], [108.0, 279000.0], [66.5, 112000.0], [150.5, 165000.0], [80.0, 99000.0], [87.0, 187000.0], [84.0, 44000.0], [61.5, 79000.0], [86.0, 89000.0], [140.0, 178000.0], [65.0, 28900.0], [76.5, 109000.0], [75.0, 138000.0], [73.5, 289000.0], [46.0, 7706.1], [99.5, 199500.0], [127.0, 188000.0], [75.0, 169500.0], [64.0, 130000.0], [80.0, 114000.0], [31.0, 106900.0], [78.0, 69000.0], [93.0, 110000.0], [72.5, 109000.0], [69.5, 96000.0], [49.5, 166000.0], [210.0, 237000.0], [24.5, 99000.0], [73.0, 129500.0], [235.0, 225000.0], [120.0, 139000.0], [89.5, 107000.0], [132.0, 245000.0], [211.0, 299000.0], [133.5, 159000.0], [80.0, 153000.0], [135.0, 155000.0], [60.5, 221800.0], [114.0, 183500.0], [122.0, 265800.0], [93.0, 89500.0], [49.5, 53500.0], [41.0, 147500.0], [69.0, 156000.0], [110.0, 218000.0], [80.0, 115500.0], [68.0, 69500.0], [89.5, 23034.73], [94.0, 88000.0], [45.5, 154000.0], [152.0, 342000.0], [136.0, 188000.0], [76.0, 229500.0], [175.4, 286000.0], [36.5, 142000.0], [63.0, 15109.04], [92.2, 77900.0], [56.0, 82000.0], [61.0, 72500.0], [90.0, 95000.0], [45.0, 157500.0], [24.0, 91700.0], [56.5, 248600.0], [97.0, 125000.0], [65.0, 28900.0], [97.0, 98000.0], [81.0, 95000.0], [81.5, 145000.0], [119.0, 139000.0], [117.0, 319000.0], [75.5, 20750.49], [136.0, 139000.0], [69.5, 84000.0], [148.0, 479000.0], [62.5, 58000.0], [60.5, 147000.0], [48.5, 133700.0], [71.0, 226184.0], [63.0, 172900.0], [117.0, 225000.0], [78.0, 88000.0], [162.0, 159000.0], [67.7, 159000.0], [74.9, 78000.0], [57.0, 194100.0], [83.5, 294200.0], [41.5, 133200.0], [49.0, 84900.0], [75.0, 276800.0], [55.0, 89500.0], [94.0, 178000.0], [35.5, 129700.0], [41.5, 146200.0], [47.5, 12591.84], [98.5, 109000.0], [47.5, 167000.0], [66.5, 116000.0], [40.5, 151100.0]], \"columns\": [{\"dtype\": \"int\", \"name\": \"id\"}, {\"dtype\": \"str\", \"name\": \"address\"}, {\"dtype\": \"int\", \"name\": \"pricePerSqm\"}, {\"dtype\": \"int\", \"name\": \"yearBuilt\"}, {\"dtype\": \"str\", \"name\": \"sourceLink\"}, {\"dtype\": \"float\", \"name\": \"salePrice\"}, {\"dtype\": \"float\", \"name\": \"size\"}, {\"dtype\": \"str\", \"name\": \"roomInfo\"}, {\"dtype\": \"str\", \"name\": \"houseType\"}, {\"dtype\": \"int\", \"name\": \"postcode\"}]}, e);\n",
       "                });\n",
       "            })();\n",
       "        "
      ]
     },
     "metadata": {},
     "output_type": "display_data"
    }
   ],
   "source": [
    "oulu_sales.show(view='Scatter Plot', x='size', y='salePrice')"
   ]
  },
  {
   "cell_type": "markdown",
   "metadata": {},
   "source": [
    "#### Graphlab img on Scatter Plot\n",
    "<img src=\"./datasets/graphlabimgs/scatterPlot.png\">"
   ]
  },
  {
   "cell_type": "markdown",
   "metadata": {},
   "source": [
    "#### Graphlab img on Scatter Plot"
   ]
  },
  {
   "cell_type": "code",
   "execution_count": 13,
   "metadata": {},
   "outputs": [
    {
     "data": {
      "text/html": [
       "<pre>Linear regression:</pre>"
      ],
      "text/plain": [
       "Linear regression:"
      ]
     },
     "metadata": {},
     "output_type": "display_data"
    },
    {
     "data": {
      "text/html": [
       "<pre>--------------------------------------------------------</pre>"
      ],
      "text/plain": [
       "--------------------------------------------------------"
      ]
     },
     "metadata": {},
     "output_type": "display_data"
    },
    {
     "data": {
      "text/html": [
       "<pre>Number of examples          : 1096</pre>"
      ],
      "text/plain": [
       "Number of examples          : 1096"
      ]
     },
     "metadata": {},
     "output_type": "display_data"
    },
    {
     "data": {
      "text/html": [
       "<pre>Number of features          : 1</pre>"
      ],
      "text/plain": [
       "Number of features          : 1"
      ]
     },
     "metadata": {},
     "output_type": "display_data"
    },
    {
     "data": {
      "text/html": [
       "<pre>Number of unpacked features : 1</pre>"
      ],
      "text/plain": [
       "Number of unpacked features : 1"
      ]
     },
     "metadata": {},
     "output_type": "display_data"
    },
    {
     "data": {
      "text/html": [
       "<pre>Number of coefficients    : 2</pre>"
      ],
      "text/plain": [
       "Number of coefficients    : 2"
      ]
     },
     "metadata": {},
     "output_type": "display_data"
    },
    {
     "data": {
      "text/html": [
       "<pre>Starting Newton Method</pre>"
      ],
      "text/plain": [
       "Starting Newton Method"
      ]
     },
     "metadata": {},
     "output_type": "display_data"
    },
    {
     "data": {
      "text/html": [
       "<pre>--------------------------------------------------------</pre>"
      ],
      "text/plain": [
       "--------------------------------------------------------"
      ]
     },
     "metadata": {},
     "output_type": "display_data"
    },
    {
     "data": {
      "text/html": [
       "<pre>+-----------+----------+--------------+--------------------+---------------+</pre>"
      ],
      "text/plain": [
       "+-----------+----------+--------------+--------------------+---------------+"
      ]
     },
     "metadata": {},
     "output_type": "display_data"
    },
    {
     "data": {
      "text/html": [
       "<pre>| Iteration | Passes   | Elapsed Time | Training-max_error | Training-rmse |</pre>"
      ],
      "text/plain": [
       "| Iteration | Passes   | Elapsed Time | Training-max_error | Training-rmse |"
      ]
     },
     "metadata": {},
     "output_type": "display_data"
    },
    {
     "data": {
      "text/html": [
       "<pre>+-----------+----------+--------------+--------------------+---------------+</pre>"
      ],
      "text/plain": [
       "+-----------+----------+--------------+--------------------+---------------+"
      ]
     },
     "metadata": {},
     "output_type": "display_data"
    },
    {
     "data": {
      "text/html": [
       "<pre>| 1         | 2        | 0.001470     | 937989.344298      | 100435.942394 |</pre>"
      ],
      "text/plain": [
       "| 1         | 2        | 0.001470     | 937989.344298      | 100435.942394 |"
      ]
     },
     "metadata": {},
     "output_type": "display_data"
    },
    {
     "data": {
      "text/html": [
       "<pre>+-----------+----------+--------------+--------------------+---------------+</pre>"
      ],
      "text/plain": [
       "+-----------+----------+--------------+--------------------+---------------+"
      ]
     },
     "metadata": {},
     "output_type": "display_data"
    },
    {
     "data": {
      "text/html": [
       "<pre>SUCCESS: Optimal solution found.</pre>"
      ],
      "text/plain": [
       "SUCCESS: Optimal solution found."
      ]
     },
     "metadata": {},
     "output_type": "display_data"
    },
    {
     "data": {
      "text/html": [
       "<pre></pre>"
      ],
      "text/plain": []
     },
     "metadata": {},
     "output_type": "display_data"
    },
    {
     "data": {
      "text/html": [
       "<pre>Linear regression:</pre>"
      ],
      "text/plain": [
       "Linear regression:"
      ]
     },
     "metadata": {},
     "output_type": "display_data"
    },
    {
     "data": {
      "text/html": [
       "<pre>--------------------------------------------------------</pre>"
      ],
      "text/plain": [
       "--------------------------------------------------------"
      ]
     },
     "metadata": {},
     "output_type": "display_data"
    },
    {
     "data": {
      "text/html": [
       "<pre>Number of examples          : 1096</pre>"
      ],
      "text/plain": [
       "Number of examples          : 1096"
      ]
     },
     "metadata": {},
     "output_type": "display_data"
    },
    {
     "data": {
      "text/html": [
       "<pre>Number of features          : 2</pre>"
      ],
      "text/plain": [
       "Number of features          : 2"
      ]
     },
     "metadata": {},
     "output_type": "display_data"
    },
    {
     "data": {
      "text/html": [
       "<pre>Number of unpacked features : 2</pre>"
      ],
      "text/plain": [
       "Number of unpacked features : 2"
      ]
     },
     "metadata": {},
     "output_type": "display_data"
    },
    {
     "data": {
      "text/html": [
       "<pre>Number of coefficients    : 3</pre>"
      ],
      "text/plain": [
       "Number of coefficients    : 3"
      ]
     },
     "metadata": {},
     "output_type": "display_data"
    },
    {
     "data": {
      "text/html": [
       "<pre>Starting Newton Method</pre>"
      ],
      "text/plain": [
       "Starting Newton Method"
      ]
     },
     "metadata": {},
     "output_type": "display_data"
    },
    {
     "data": {
      "text/html": [
       "<pre>--------------------------------------------------------</pre>"
      ],
      "text/plain": [
       "--------------------------------------------------------"
      ]
     },
     "metadata": {},
     "output_type": "display_data"
    },
    {
     "data": {
      "text/html": [
       "<pre>+-----------+----------+--------------+--------------------+---------------+</pre>"
      ],
      "text/plain": [
       "+-----------+----------+--------------+--------------------+---------------+"
      ]
     },
     "metadata": {},
     "output_type": "display_data"
    },
    {
     "data": {
      "text/html": [
       "<pre>| Iteration | Passes   | Elapsed Time | Training-max_error | Training-rmse |</pre>"
      ],
      "text/plain": [
       "| Iteration | Passes   | Elapsed Time | Training-max_error | Training-rmse |"
      ]
     },
     "metadata": {},
     "output_type": "display_data"
    },
    {
     "data": {
      "text/html": [
       "<pre>+-----------+----------+--------------+--------------------+---------------+</pre>"
      ],
      "text/plain": [
       "+-----------+----------+--------------+--------------------+---------------+"
      ]
     },
     "metadata": {},
     "output_type": "display_data"
    },
    {
     "data": {
      "text/html": [
       "<pre>| 1         | 2        | 0.001842     | 960668.627360      | 97145.231693  |</pre>"
      ],
      "text/plain": [
       "| 1         | 2        | 0.001842     | 960668.627360      | 97145.231693  |"
      ]
     },
     "metadata": {},
     "output_type": "display_data"
    },
    {
     "data": {
      "text/html": [
       "<pre>+-----------+----------+--------------+--------------------+---------------+</pre>"
      ],
      "text/plain": [
       "+-----------+----------+--------------+--------------------+---------------+"
      ]
     },
     "metadata": {},
     "output_type": "display_data"
    },
    {
     "data": {
      "text/html": [
       "<pre>SUCCESS: Optimal solution found.</pre>"
      ],
      "text/plain": [
       "SUCCESS: Optimal solution found."
      ]
     },
     "metadata": {},
     "output_type": "display_data"
    },
    {
     "data": {
      "text/html": [
       "<pre></pre>"
      ],
      "text/plain": []
     },
     "metadata": {},
     "output_type": "display_data"
    },
    {
     "data": {
      "text/html": [
       "<pre>Linear regression:</pre>"
      ],
      "text/plain": [
       "Linear regression:"
      ]
     },
     "metadata": {},
     "output_type": "display_data"
    },
    {
     "data": {
      "text/html": [
       "<pre>--------------------------------------------------------</pre>"
      ],
      "text/plain": [
       "--------------------------------------------------------"
      ]
     },
     "metadata": {},
     "output_type": "display_data"
    },
    {
     "data": {
      "text/html": [
       "<pre>Number of examples          : 1096</pre>"
      ],
      "text/plain": [
       "Number of examples          : 1096"
      ]
     },
     "metadata": {},
     "output_type": "display_data"
    },
    {
     "data": {
      "text/html": [
       "<pre>Number of features          : 3</pre>"
      ],
      "text/plain": [
       "Number of features          : 3"
      ]
     },
     "metadata": {},
     "output_type": "display_data"
    },
    {
     "data": {
      "text/html": [
       "<pre>Number of unpacked features : 3</pre>"
      ],
      "text/plain": [
       "Number of unpacked features : 3"
      ]
     },
     "metadata": {},
     "output_type": "display_data"
    },
    {
     "data": {
      "text/html": [
       "<pre>Number of coefficients    : 4</pre>"
      ],
      "text/plain": [
       "Number of coefficients    : 4"
      ]
     },
     "metadata": {},
     "output_type": "display_data"
    },
    {
     "data": {
      "text/html": [
       "<pre>Starting Newton Method</pre>"
      ],
      "text/plain": [
       "Starting Newton Method"
      ]
     },
     "metadata": {},
     "output_type": "display_data"
    },
    {
     "data": {
      "text/html": [
       "<pre>--------------------------------------------------------</pre>"
      ],
      "text/plain": [
       "--------------------------------------------------------"
      ]
     },
     "metadata": {},
     "output_type": "display_data"
    },
    {
     "data": {
      "text/html": [
       "<pre>+-----------+----------+--------------+--------------------+---------------+</pre>"
      ],
      "text/plain": [
       "+-----------+----------+--------------+--------------------+---------------+"
      ]
     },
     "metadata": {},
     "output_type": "display_data"
    },
    {
     "data": {
      "text/html": [
       "<pre>| Iteration | Passes   | Elapsed Time | Training-max_error | Training-rmse |</pre>"
      ],
      "text/plain": [
       "| Iteration | Passes   | Elapsed Time | Training-max_error | Training-rmse |"
      ]
     },
     "metadata": {},
     "output_type": "display_data"
    },
    {
     "data": {
      "text/html": [
       "<pre>+-----------+----------+--------------+--------------------+---------------+</pre>"
      ],
      "text/plain": [
       "+-----------+----------+--------------+--------------------+---------------+"
      ]
     },
     "metadata": {},
     "output_type": "display_data"
    },
    {
     "data": {
      "text/html": [
       "<pre>| 1         | 2        | 0.002450     | 597277.862578      | 71437.369798  |</pre>"
      ],
      "text/plain": [
       "| 1         | 2        | 0.002450     | 597277.862578      | 71437.369798  |"
      ]
     },
     "metadata": {},
     "output_type": "display_data"
    },
    {
     "data": {
      "text/html": [
       "<pre>+-----------+----------+--------------+--------------------+---------------+</pre>"
      ],
      "text/plain": [
       "+-----------+----------+--------------+--------------------+---------------+"
      ]
     },
     "metadata": {},
     "output_type": "display_data"
    },
    {
     "data": {
      "text/html": [
       "<pre>SUCCESS: Optimal solution found.</pre>"
      ],
      "text/plain": [
       "SUCCESS: Optimal solution found."
      ]
     },
     "metadata": {},
     "output_type": "display_data"
    },
    {
     "data": {
      "text/html": [
       "<pre></pre>"
      ],
      "text/plain": []
     },
     "metadata": {},
     "output_type": "display_data"
    }
   ],
   "source": [
    "f1_model = gl.linear_regression.create(train_data, target='salePrice', features=feature1, validation_set=None)\n",
    "f2_model = gl.linear_regression.create(train_data, target='salePrice', features=feature2, validation_set=None)\n",
    "f3_model = gl.linear_regression.create(train_data, target='salePrice', features=feature3, validation_set=None)"
   ]
  },
  {
   "cell_type": "code",
   "execution_count": 14,
   "metadata": {},
   "outputs": [
    {
     "name": "stdout",
     "output_type": "stream",
     "text": [
      "{'max_error': 593855.0786543759, 'rmse': 111112.35792317627}\n",
      "{'max_error': 613116.7512256526, 'rmse': 110500.79952024212}\n",
      "{'max_error': 569085.9688430987, 'rmse': 76241.73102230058}\n"
     ]
    }
   ],
   "source": [
    "print f1_model.evaluate(test_data)\n",
    "print f2_model.evaluate(test_data)\n",
    "print f3_model.evaluate(test_data)"
   ]
  },
  {
   "cell_type": "code",
   "execution_count": 15,
   "metadata": {},
   "outputs": [
    {
     "data": {
      "text/html": [
       "<div style=\"max-height:1000px;max-width:1500px;overflow:auto;\"><table frame=\"box\" rules=\"cols\">\n",
       "    <tr>\n",
       "        <th style=\"padding-left: 1em; padding-right: 1em; text-align: center\">name</th>\n",
       "        <th style=\"padding-left: 1em; padding-right: 1em; text-align: center\">index</th>\n",
       "        <th style=\"padding-left: 1em; padding-right: 1em; text-align: center\">value</th>\n",
       "        <th style=\"padding-left: 1em; padding-right: 1em; text-align: center\">stderr</th>\n",
       "    </tr>\n",
       "    <tr>\n",
       "        <td style=\"padding-left: 1em; padding-right: 1em; text-align: center; vertical-align: top\">(intercept)</td>\n",
       "        <td style=\"padding-left: 1em; padding-right: 1em; text-align: center; vertical-align: top\">None</td>\n",
       "        <td style=\"padding-left: 1em; padding-right: 1em; text-align: center; vertical-align: top\">2772776.89594</td>\n",
       "        <td style=\"padding-left: 1em; padding-right: 1em; text-align: center; vertical-align: top\">1041518.93232</td>\n",
       "    </tr>\n",
       "    <tr>\n",
       "        <td style=\"padding-left: 1em; padding-right: 1em; text-align: center; vertical-align: top\">postcode</td>\n",
       "        <td style=\"padding-left: 1em; padding-right: 1em; text-align: center; vertical-align: top\">None</td>\n",
       "        <td style=\"padding-left: 1em; padding-right: 1em; text-align: center; vertical-align: top\">-28.857811874</td>\n",
       "        <td style=\"padding-left: 1em; padding-right: 1em; text-align: center; vertical-align: top\">11.5124669825</td>\n",
       "    </tr>\n",
       "</table>\n",
       "[2 rows x 4 columns]<br/>\n",
       "</div>"
      ],
      "text/plain": [
       "Columns:\n",
       "\tname\tstr\n",
       "\tindex\tstr\n",
       "\tvalue\tfloat\n",
       "\tstderr\tfloat\n",
       "\n",
       "Rows: 2\n",
       "\n",
       "Data:\n",
       "+-------------+-------+---------------+---------------+\n",
       "|     name    | index |     value     |     stderr    |\n",
       "+-------------+-------+---------------+---------------+\n",
       "| (intercept) |  None | 2772776.89594 | 1041518.93232 |\n",
       "|   postcode  |  None | -28.857811874 | 11.5124669825 |\n",
       "+-------------+-------+---------------+---------------+\n",
       "[2 rows x 4 columns]"
      ]
     },
     "execution_count": 15,
     "metadata": {},
     "output_type": "execute_result"
    }
   ],
   "source": [
    "f1_model.get('coefficients')"
   ]
  },
  {
   "cell_type": "code",
   "execution_count": 16,
   "metadata": {},
   "outputs": [
    {
     "data": {
      "text/html": [
       "<div style=\"max-height:1000px;max-width:1500px;overflow:auto;\"><table frame=\"box\" rules=\"cols\">\n",
       "    <tr>\n",
       "        <th style=\"padding-left: 1em; padding-right: 1em; text-align: center\">name</th>\n",
       "        <th style=\"padding-left: 1em; padding-right: 1em; text-align: center\">index</th>\n",
       "        <th style=\"padding-left: 1em; padding-right: 1em; text-align: center\">value</th>\n",
       "        <th style=\"padding-left: 1em; padding-right: 1em; text-align: center\">stderr</th>\n",
       "    </tr>\n",
       "    <tr>\n",
       "        <td style=\"padding-left: 1em; padding-right: 1em; text-align: center; vertical-align: top\">(intercept)</td>\n",
       "        <td style=\"padding-left: 1em; padding-right: 1em; text-align: center; vertical-align: top\">None</td>\n",
       "        <td style=\"padding-left: 1em; padding-right: 1em; text-align: center; vertical-align: top\">-249376.689947</td>\n",
       "        <td style=\"padding-left: 1em; padding-right: 1em; text-align: center; vertical-align: top\">1109896.34746</td>\n",
       "    </tr>\n",
       "    <tr>\n",
       "        <td style=\"padding-left: 1em; padding-right: 1em; text-align: center; vertical-align: top\">yearBuilt</td>\n",
       "        <td style=\"padding-left: 1em; padding-right: 1em; text-align: center; vertical-align: top\">None</td>\n",
       "        <td style=\"padding-left: 1em; padding-right: 1em; text-align: center; vertical-align: top\">1158.37160507</td>\n",
       "        <td style=\"padding-left: 1em; padding-right: 1em; text-align: center; vertical-align: top\">142.274577041</td>\n",
       "    </tr>\n",
       "    <tr>\n",
       "        <td style=\"padding-left: 1em; padding-right: 1em; text-align: center; vertical-align: top\">postcode</td>\n",
       "        <td style=\"padding-left: 1em; padding-right: 1em; text-align: center; vertical-align: top\">None</td>\n",
       "        <td style=\"padding-left: 1em; padding-right: 1em; text-align: center; vertical-align: top\">-21.0040259648</td>\n",
       "        <td style=\"padding-left: 1em; padding-right: 1em; text-align: center; vertical-align: top\">11.3184756917</td>\n",
       "    </tr>\n",
       "</table>\n",
       "[3 rows x 4 columns]<br/>\n",
       "</div>"
      ],
      "text/plain": [
       "Columns:\n",
       "\tname\tstr\n",
       "\tindex\tstr\n",
       "\tvalue\tfloat\n",
       "\tstderr\tfloat\n",
       "\n",
       "Rows: 3\n",
       "\n",
       "Data:\n",
       "+-------------+-------+----------------+---------------+\n",
       "|     name    | index |     value      |     stderr    |\n",
       "+-------------+-------+----------------+---------------+\n",
       "| (intercept) |  None | -249376.689947 | 1109896.34746 |\n",
       "|  yearBuilt  |  None | 1158.37160507  | 142.274577041 |\n",
       "|   postcode  |  None | -21.0040259648 | 11.3184756917 |\n",
       "+-------------+-------+----------------+---------------+\n",
       "[3 rows x 4 columns]"
      ]
     },
     "execution_count": 16,
     "metadata": {},
     "output_type": "execute_result"
    }
   ],
   "source": [
    "f2_model.get('coefficients')"
   ]
  },
  {
   "cell_type": "code",
   "execution_count": 17,
   "metadata": {},
   "outputs": [
    {
     "data": {
      "text/html": [
       "<div style=\"max-height:1000px;max-width:1500px;overflow:auto;\"><table frame=\"box\" rules=\"cols\">\n",
       "    <tr>\n",
       "        <th style=\"padding-left: 1em; padding-right: 1em; text-align: center\">name</th>\n",
       "        <th style=\"padding-left: 1em; padding-right: 1em; text-align: center\">index</th>\n",
       "        <th style=\"padding-left: 1em; padding-right: 1em; text-align: center\">value</th>\n",
       "        <th style=\"padding-left: 1em; padding-right: 1em; text-align: center\">stderr</th>\n",
       "    </tr>\n",
       "    <tr>\n",
       "        <td style=\"padding-left: 1em; padding-right: 1em; text-align: center; vertical-align: top\">(intercept)</td>\n",
       "        <td style=\"padding-left: 1em; padding-right: 1em; text-align: center; vertical-align: top\">None</td>\n",
       "        <td style=\"padding-left: 1em; padding-right: 1em; text-align: center; vertical-align: top\">1050311.91483</td>\n",
       "        <td style=\"padding-left: 1em; padding-right: 1em; text-align: center; vertical-align: top\">829863.943798</td>\n",
       "    </tr>\n",
       "    <tr>\n",
       "        <td style=\"padding-left: 1em; padding-right: 1em; text-align: center; vertical-align: top\">size</td>\n",
       "        <td style=\"padding-left: 1em; padding-right: 1em; text-align: center; vertical-align: top\">None</td>\n",
       "        <td style=\"padding-left: 1em; padding-right: 1em; text-align: center; vertical-align: top\">1305.22778967</td>\n",
       "        <td style=\"padding-left: 1em; padding-right: 1em; text-align: center; vertical-align: top\">44.9557289965</td>\n",
       "    </tr>\n",
       "    <tr>\n",
       "        <td style=\"padding-left: 1em; padding-right: 1em; text-align: center; vertical-align: top\">yearBuilt</td>\n",
       "        <td style=\"padding-left: 1em; padding-right: 1em; text-align: center; vertical-align: top\">None</td>\n",
       "        <td style=\"padding-left: 1em; padding-right: 1em; text-align: center; vertical-align: top\">1826.13863253</td>\n",
       "        <td style=\"padding-left: 1em; padding-right: 1em; text-align: center; vertical-align: top\">107.04028059</td>\n",
       "    </tr>\n",
       "    <tr>\n",
       "        <td style=\"padding-left: 1em; padding-right: 1em; text-align: center; vertical-align: top\">postcode</td>\n",
       "        <td style=\"padding-left: 1em; padding-right: 1em; text-align: center; vertical-align: top\">None</td>\n",
       "        <td style=\"padding-left: 1em; padding-right: 1em; text-align: center; vertical-align: top\">-51.2849278443</td>\n",
       "        <td style=\"padding-left: 1em; padding-right: 1em; text-align: center; vertical-align: top\">8.60539978599</td>\n",
       "    </tr>\n",
       "</table>\n",
       "[4 rows x 4 columns]<br/>\n",
       "</div>"
      ],
      "text/plain": [
       "Columns:\n",
       "\tname\tstr\n",
       "\tindex\tstr\n",
       "\tvalue\tfloat\n",
       "\tstderr\tfloat\n",
       "\n",
       "Rows: 4\n",
       "\n",
       "Data:\n",
       "+-------------+-------+----------------+---------------+\n",
       "|     name    | index |     value      |     stderr    |\n",
       "+-------------+-------+----------------+---------------+\n",
       "| (intercept) |  None | 1050311.91483  | 829863.943798 |\n",
       "|     size    |  None | 1305.22778967  | 44.9557289965 |\n",
       "|  yearBuilt  |  None | 1826.13863253  |  107.04028059 |\n",
       "|   postcode  |  None | -51.2849278443 | 8.60539978599 |\n",
       "+-------------+-------+----------------+---------------+\n",
       "[4 rows x 4 columns]"
      ]
     },
     "execution_count": 17,
     "metadata": {},
     "output_type": "execute_result"
    }
   ],
   "source": [
    "f3_model.get('coefficients')"
   ]
  },
  {
   "cell_type": "code",
   "execution_count": 18,
   "metadata": {},
   "outputs": [
    {
     "data": {
      "text/plain": [
       "2284.7914554670533"
      ]
     },
     "execution_count": 18,
     "metadata": {},
     "output_type": "execute_result"
    }
   ],
   "source": [
    "oulu_sales['pricePerSqm'].mean()\n"
   ]
  },
  {
   "cell_type": "code",
   "execution_count": 19,
   "metadata": {},
   "outputs": [
    {
     "data": {
      "text/html": [
       "<div style=\"max-height:1000px;max-width:1500px;overflow:auto;\"><table frame=\"box\" rules=\"cols\">\n",
       "    <tr>\n",
       "        <th style=\"padding-left: 1em; padding-right: 1em; text-align: center\">id</th>\n",
       "        <th style=\"padding-left: 1em; padding-right: 1em; text-align: center\">address</th>\n",
       "        <th style=\"padding-left: 1em; padding-right: 1em; text-align: center\">pricePerSqm</th>\n",
       "        <th style=\"padding-left: 1em; padding-right: 1em; text-align: center\">yearBuilt</th>\n",
       "        <th style=\"padding-left: 1em; padding-right: 1em; text-align: center\">sourceLink</th>\n",
       "        <th style=\"padding-left: 1em; padding-right: 1em; text-align: center\">salePrice</th>\n",
       "        <th style=\"padding-left: 1em; padding-right: 1em; text-align: center\">size</th>\n",
       "    </tr>\n",
       "    <tr>\n",
       "        <td style=\"padding-left: 1em; padding-right: 1em; text-align: center; vertical-align: top\">40288</td>\n",
       "        <td style=\"padding-left: 1em; padding-right: 1em; text-align: center; vertical-align: top\">Aleksanterinkatu 71 A 48,<br>Hollihaka Oulu ...</td>\n",
       "        <td style=\"padding-left: 1em; padding-right: 1em; text-align: center; vertical-align: top\">4981</td>\n",
       "        <td style=\"padding-left: 1em; padding-right: 1em; text-align: center; vertical-align: top\">2016</td>\n",
       "        <td style=\"padding-left: 1em; padding-right: 1em; text-align: center; vertical-align: top\">http://www.etuovi.com/koh<br>de/9540323?sc=M104214 ...</td>\n",
       "        <td style=\"padding-left: 1em; padding-right: 1em; text-align: center; vertical-align: top\">129500.0</td>\n",
       "        <td style=\"padding-left: 1em; padding-right: 1em; text-align: center; vertical-align: top\">26.0</td>\n",
       "    </tr>\n",
       "    <tr>\n",
       "        <td style=\"padding-left: 1em; padding-right: 1em; text-align: center; vertical-align: top\">40528</td>\n",
       "        <td style=\"padding-left: 1em; padding-right: 1em; text-align: center; vertical-align: top\">Koskitie 16 B 37, Tuira<br>Oulu ...</td>\n",
       "        <td style=\"padding-left: 1em; padding-right: 1em; text-align: center; vertical-align: top\">4763</td>\n",
       "        <td style=\"padding-left: 1em; padding-right: 1em; text-align: center; vertical-align: top\">2014</td>\n",
       "        <td style=\"padding-left: 1em; padding-right: 1em; text-align: center; vertical-align: top\">http://www.etuovi.com/koh<br>de/904235?sc=M1042147 ...</td>\n",
       "        <td style=\"padding-left: 1em; padding-right: 1em; text-align: center; vertical-align: top\">755000.0</td>\n",
       "        <td style=\"padding-left: 1em; padding-right: 1em; text-align: center; vertical-align: top\">158.5</td>\n",
       "    </tr>\n",
       "    <tr>\n",
       "        <td style=\"padding-left: 1em; padding-right: 1em; text-align: center; vertical-align: top\">40870</td>\n",
       "        <td style=\"padding-left: 1em; padding-right: 1em; text-align: center; vertical-align: top\">Höyrymyllyntie 18,<br>Toppilansalmi Oulu ...</td>\n",
       "        <td style=\"padding-left: 1em; padding-right: 1em; text-align: center; vertical-align: top\">3608</td>\n",
       "        <td style=\"padding-left: 1em; padding-right: 1em; text-align: center; vertical-align: top\">2015</td>\n",
       "        <td style=\"padding-left: 1em; padding-right: 1em; text-align: center; vertical-align: top\">http://www.etuovi.com/koh<br>de/9482342?sc=M104214 ...</td>\n",
       "        <td style=\"padding-left: 1em; padding-right: 1em; text-align: center; vertical-align: top\">142500.0</td>\n",
       "        <td style=\"padding-left: 1em; padding-right: 1em; text-align: center; vertical-align: top\">39.5</td>\n",
       "    </tr>\n",
       "    <tr>\n",
       "        <td style=\"padding-left: 1em; padding-right: 1em; text-align: center; vertical-align: top\">41026</td>\n",
       "        <td style=\"padding-left: 1em; padding-right: 1em; text-align: center; vertical-align: top\">Vipukuja 9 ja 11,<br>Ritaharju Oulu ...</td>\n",
       "        <td style=\"padding-left: 1em; padding-right: 1em; text-align: center; vertical-align: top\">2571</td>\n",
       "        <td style=\"padding-left: 1em; padding-right: 1em; text-align: center; vertical-align: top\">2016</td>\n",
       "        <td style=\"padding-left: 1em; padding-right: 1em; text-align: center; vertical-align: top\">http://www.etuovi.com/koh<br>de/c34348?sc=M1042147 ...</td>\n",
       "        <td style=\"padding-left: 1em; padding-right: 1em; text-align: center; vertical-align: top\">378000.0</td>\n",
       "        <td style=\"padding-left: 1em; padding-right: 1em; text-align: center; vertical-align: top\">147.0</td>\n",
       "    </tr>\n",
       "    <tr>\n",
       "        <td style=\"padding-left: 1em; padding-right: 1em; text-align: center; vertical-align: top\">41302</td>\n",
       "        <td style=\"padding-left: 1em; padding-right: 1em; text-align: center; vertical-align: top\">Ratamotie 42, Pateniemi<br>Oulu ...</td>\n",
       "        <td style=\"padding-left: 1em; padding-right: 1em; text-align: center; vertical-align: top\">1250</td>\n",
       "        <td style=\"padding-left: 1em; padding-right: 1em; text-align: center; vertical-align: top\">2016</td>\n",
       "        <td style=\"padding-left: 1em; padding-right: 1em; text-align: center; vertical-align: top\">http://www.etuovi.com/koh<br>de/c27848?sc=M1042147 ...</td>\n",
       "        <td style=\"padding-left: 1em; padding-right: 1em; text-align: center; vertical-align: top\">57500.0</td>\n",
       "        <td style=\"padding-left: 1em; padding-right: 1em; text-align: center; vertical-align: top\">46.0</td>\n",
       "    </tr>\n",
       "    <tr>\n",
       "        <td style=\"padding-left: 1em; padding-right: 1em; text-align: center; vertical-align: top\">41418</td>\n",
       "        <td style=\"padding-left: 1em; padding-right: 1em; text-align: center; vertical-align: top\">Ratamotie 42, Pateniemi<br>Oulu ...</td>\n",
       "        <td style=\"padding-left: 1em; padding-right: 1em; text-align: center; vertical-align: top\">1250</td>\n",
       "        <td style=\"padding-left: 1em; padding-right: 1em; text-align: center; vertical-align: top\">2016</td>\n",
       "        <td style=\"padding-left: 1em; padding-right: 1em; text-align: center; vertical-align: top\">http://www.etuovi.com/koh<br>de/c26444?sc=M1042147 ...</td>\n",
       "        <td style=\"padding-left: 1em; padding-right: 1em; text-align: center; vertical-align: top\">51250.0</td>\n",
       "        <td style=\"padding-left: 1em; padding-right: 1em; text-align: center; vertical-align: top\">41.0</td>\n",
       "    </tr>\n",
       "    <tr>\n",
       "        <td style=\"padding-left: 1em; padding-right: 1em; text-align: center; vertical-align: top\">42470</td>\n",
       "        <td style=\"padding-left: 1em; padding-right: 1em; text-align: center; vertical-align: top\">Solistinkatu 1,<br>Karjasilta Oulu ...</td>\n",
       "        <td style=\"padding-left: 1em; padding-right: 1em; text-align: center; vertical-align: top\">3219</td>\n",
       "        <td style=\"padding-left: 1em; padding-right: 1em; text-align: center; vertical-align: top\">2008</td>\n",
       "        <td style=\"padding-left: 1em; padding-right: 1em; text-align: center; vertical-align: top\">http://www.etuovi.com/koh<br>de/1157063?sc=M104214 ...</td>\n",
       "        <td style=\"padding-left: 1em; padding-right: 1em; text-align: center; vertical-align: top\">235000.0</td>\n",
       "        <td style=\"padding-left: 1em; padding-right: 1em; text-align: center; vertical-align: top\">73.0</td>\n",
       "    </tr>\n",
       "    <tr>\n",
       "        <td style=\"padding-left: 1em; padding-right: 1em; text-align: center; vertical-align: top\">42514</td>\n",
       "        <td style=\"padding-left: 1em; padding-right: 1em; text-align: center; vertical-align: top\">Kivirinne 14 A,<br>Maikkula/Kontionkangas ...</td>\n",
       "        <td style=\"padding-left: 1em; padding-right: 1em; text-align: center; vertical-align: top\">1649</td>\n",
       "        <td style=\"padding-left: 1em; padding-right: 1em; text-align: center; vertical-align: top\">1987</td>\n",
       "        <td style=\"padding-left: 1em; padding-right: 1em; text-align: center; vertical-align: top\">http://www.etuovi.com/koh<br>de/b76677?sc=M1042147 ...</td>\n",
       "        <td style=\"padding-left: 1em; padding-right: 1em; text-align: center; vertical-align: top\">249000.0</td>\n",
       "        <td style=\"padding-left: 1em; padding-right: 1em; text-align: center; vertical-align: top\">151.0</td>\n",
       "    </tr>\n",
       "    <tr>\n",
       "        <td style=\"padding-left: 1em; padding-right: 1em; text-align: center; vertical-align: top\">42562</td>\n",
       "        <td style=\"padding-left: 1em; padding-right: 1em; text-align: center; vertical-align: top\">Siilotie 23 B5,<br>Toppilansalmi Oulu ...</td>\n",
       "        <td style=\"padding-left: 1em; padding-right: 1em; text-align: center; vertical-align: top\">3598</td>\n",
       "        <td style=\"padding-left: 1em; padding-right: 1em; text-align: center; vertical-align: top\">2014</td>\n",
       "        <td style=\"padding-left: 1em; padding-right: 1em; text-align: center; vertical-align: top\">http://www.etuovi.com/koh<br>de/523566?sc=M1042147 ...</td>\n",
       "        <td style=\"padding-left: 1em; padding-right: 1em; text-align: center; vertical-align: top\">147500.0</td>\n",
       "        <td style=\"padding-left: 1em; padding-right: 1em; text-align: center; vertical-align: top\">41.0</td>\n",
       "    </tr>\n",
       "    <tr>\n",
       "        <td style=\"padding-left: 1em; padding-right: 1em; text-align: center; vertical-align: top\">42908</td>\n",
       "        <td style=\"padding-left: 1em; padding-right: 1em; text-align: center; vertical-align: top\">Aleksanterinkatu 71 B,<br>Hollihaka Oulu ...</td>\n",
       "        <td style=\"padding-left: 1em; padding-right: 1em; text-align: center; vertical-align: top\">2929</td>\n",
       "        <td style=\"padding-left: 1em; padding-right: 1em; text-align: center; vertical-align: top\">2016</td>\n",
       "        <td style=\"padding-left: 1em; padding-right: 1em; text-align: center; vertical-align: top\">http://www.etuovi.com/koh<br>de/7638246?sc=M104214 ...</td>\n",
       "        <td style=\"padding-left: 1em; padding-right: 1em; text-align: center; vertical-align: top\">205000.0</td>\n",
       "        <td style=\"padding-left: 1em; padding-right: 1em; text-align: center; vertical-align: top\">70.0</td>\n",
       "    </tr>\n",
       "</table>\n",
       "<table frame=\"box\" rules=\"cols\">\n",
       "    <tr>\n",
       "        <th style=\"padding-left: 1em; padding-right: 1em; text-align: center\">roomInfo</th>\n",
       "        <th style=\"padding-left: 1em; padding-right: 1em; text-align: center\">houseType</th>\n",
       "        <th style=\"padding-left: 1em; padding-right: 1em; text-align: center\">postcode</th>\n",
       "    </tr>\n",
       "    <tr>\n",
       "        <td style=\"padding-left: 1em; padding-right: 1em; text-align: center; vertical-align: top\">1h+kk</td>\n",
       "        <td style=\"padding-left: 1em; padding-right: 1em; text-align: center; vertical-align: top\">Kerrostalo</td>\n",
       "        <td style=\"padding-left: 1em; padding-right: 1em; text-align: center; vertical-align: top\">90120</td>\n",
       "    </tr>\n",
       "    <tr>\n",
       "        <td style=\"padding-left: 1em; padding-right: 1em; text-align: center; vertical-align: top\">5h+k+s</td>\n",
       "        <td style=\"padding-left: 1em; padding-right: 1em; text-align: center; vertical-align: top\">Kerrostalo</td>\n",
       "        <td style=\"padding-left: 1em; padding-right: 1em; text-align: center; vertical-align: top\">90500</td>\n",
       "    </tr>\n",
       "    <tr>\n",
       "        <td style=\"padding-left: 1em; padding-right: 1em; text-align: center; vertical-align: top\">1h+kt+s</td>\n",
       "        <td style=\"padding-left: 1em; padding-right: 1em; text-align: center; vertical-align: top\">Kerrostalo</td>\n",
       "        <td style=\"padding-left: 1em; padding-right: 1em; text-align: center; vertical-align: top\">90520</td>\n",
       "    </tr>\n",
       "    <tr>\n",
       "        <td style=\"padding-left: 1em; padding-right: 1em; text-align: center; vertical-align: top\">3 tai 4 mh + oh,k,rh +<br>khh + WC, S + WC, SU, SA ...</td>\n",
       "        <td style=\"padding-left: 1em; padding-right: 1em; text-align: center; vertical-align: top\">Omakotitalo</td>\n",
       "        <td style=\"padding-left: 1em; padding-right: 1em; text-align: center; vertical-align: top\">90540</td>\n",
       "    </tr>\n",
       "    <tr>\n",
       "        <td style=\"padding-left: 1em; padding-right: 1em; text-align: center; vertical-align: top\">Talliosake</td>\n",
       "        <td style=\"padding-left: 1em; padding-right: 1em; text-align: center; vertical-align: top\">Rivitalo</td>\n",
       "        <td style=\"padding-left: 1em; padding-right: 1em; text-align: center; vertical-align: top\">90800</td>\n",
       "    </tr>\n",
       "    <tr>\n",
       "        <td style=\"padding-left: 1em; padding-right: 1em; text-align: center; vertical-align: top\">Talliosake</td>\n",
       "        <td style=\"padding-left: 1em; padding-right: 1em; text-align: center; vertical-align: top\">Rivitalo</td>\n",
       "        <td style=\"padding-left: 1em; padding-right: 1em; text-align: center; vertical-align: top\">90800</td>\n",
       "    </tr>\n",
       "    <tr>\n",
       "        <td style=\"padding-left: 1em; padding-right: 1em; text-align: center; vertical-align: top\">3h, kk, s</td>\n",
       "        <td style=\"padding-left: 1em; padding-right: 1em; text-align: center; vertical-align: top\">Kerrostalo</td>\n",
       "        <td style=\"padding-left: 1em; padding-right: 1em; text-align: center; vertical-align: top\">90140</td>\n",
       "    </tr>\n",
       "    <tr>\n",
       "        <td style=\"padding-left: 1em; padding-right: 1em; text-align: center; vertical-align: top\">4mh, oh, k, khh, s</td>\n",
       "        <td style=\"padding-left: 1em; padding-right: 1em; text-align: center; vertical-align: top\">Omakotitalo</td>\n",
       "        <td style=\"padding-left: 1em; padding-right: 1em; text-align: center; vertical-align: top\">90240</td>\n",
       "    </tr>\n",
       "    <tr>\n",
       "        <td style=\"padding-left: 1em; padding-right: 1em; text-align: center; vertical-align: top\">1h,k,s,parvi</td>\n",
       "        <td style=\"padding-left: 1em; padding-right: 1em; text-align: center; vertical-align: top\">Kerrostalo</td>\n",
       "        <td style=\"padding-left: 1em; padding-right: 1em; text-align: center; vertical-align: top\">90520</td>\n",
       "    </tr>\n",
       "    <tr>\n",
       "        <td style=\"padding-left: 1em; padding-right: 1em; text-align: center; vertical-align: top\">3h+kk+vh+erillinen<br>wc+kph+s ...</td>\n",
       "        <td style=\"padding-left: 1em; padding-right: 1em; text-align: center; vertical-align: top\">Kerrostalo</td>\n",
       "        <td style=\"padding-left: 1em; padding-right: 1em; text-align: center; vertical-align: top\">90120</td>\n",
       "    </tr>\n",
       "</table>\n",
       "[10 rows x 10 columns]<br/>\n",
       "</div>"
      ],
      "text/plain": [
       "Columns:\n",
       "\tid\tint\n",
       "\taddress\tstr\n",
       "\tpricePerSqm\tint\n",
       "\tyearBuilt\tint\n",
       "\tsourceLink\tstr\n",
       "\tsalePrice\tfloat\n",
       "\tsize\tfloat\n",
       "\troomInfo\tstr\n",
       "\thouseType\tstr\n",
       "\tpostcode\tint\n",
       "\n",
       "Rows: 10\n",
       "\n",
       "Data:\n",
       "+-------+-------------------------------+-------------+-----------+\n",
       "|   id  |            address            | pricePerSqm | yearBuilt |\n",
       "+-------+-------------------------------+-------------+-----------+\n",
       "| 40288 | Aleksanterinkatu 71 A 48, ... |     4981    |    2016   |\n",
       "| 40528 |  Koskitie 16 B 37, Tuira Oulu |     4763    |    2014   |\n",
       "| 40870 | Höyrymyllyntie 18, Toppila... |     3608    |    2015   |\n",
       "| 41026 | Vipukuja 9 ja 11, Ritaharj... |     2571    |    2016   |\n",
       "| 41302 |  Ratamotie 42, Pateniemi Oulu |     1250    |    2016   |\n",
       "| 41418 |  Ratamotie 42, Pateniemi Oulu |     1250    |    2016   |\n",
       "| 42470 | Solistinkatu 1, Karjasilta... |     3219    |    2008   |\n",
       "| 42514 | Kivirinne 14 A, Maikkula/K... |     1649    |    1987   |\n",
       "| 42562 | Siilotie 23 B5, Toppilansa... |     3598    |    2014   |\n",
       "| 42908 | Aleksanterinkatu 71 B, Hol... |     2929    |    2016   |\n",
       "+-------+-------------------------------+-------------+-----------+\n",
       "+-------------------------------+-----------+-------+\n",
       "|           sourceLink          | salePrice |  size |\n",
       "+-------------------------------+-----------+-------+\n",
       "| http://www.etuovi.com/kohd... |  129500.0 |  26.0 |\n",
       "| http://www.etuovi.com/kohd... |  755000.0 | 158.5 |\n",
       "| http://www.etuovi.com/kohd... |  142500.0 |  39.5 |\n",
       "| http://www.etuovi.com/kohd... |  378000.0 | 147.0 |\n",
       "| http://www.etuovi.com/kohd... |  57500.0  |  46.0 |\n",
       "| http://www.etuovi.com/kohd... |  51250.0  |  41.0 |\n",
       "| http://www.etuovi.com/kohd... |  235000.0 |  73.0 |\n",
       "| http://www.etuovi.com/kohd... |  249000.0 | 151.0 |\n",
       "| http://www.etuovi.com/kohd... |  147500.0 |  41.0 |\n",
       "| http://www.etuovi.com/kohd... |  205000.0 |  70.0 |\n",
       "+-------------------------------+-----------+-------+\n",
       "+-------------------------------+-------------+----------+\n",
       "|            roomInfo           |  houseType  | postcode |\n",
       "+-------------------------------+-------------+----------+\n",
       "|             1h+kk             |  Kerrostalo |  90120   |\n",
       "|             5h+k+s            |  Kerrostalo |  90500   |\n",
       "|            1h+kt+s            |  Kerrostalo |  90520   |\n",
       "| 3 tai 4 mh + oh,k,rh + khh... | Omakotitalo |  90540   |\n",
       "|           Talliosake          |   Rivitalo  |  90800   |\n",
       "|           Talliosake          |   Rivitalo  |  90800   |\n",
       "|           3h, kk, s           |  Kerrostalo |  90140   |\n",
       "|       4mh, oh, k, khh, s      | Omakotitalo |  90240   |\n",
       "|          1h,k,s,parvi         |  Kerrostalo |  90520   |\n",
       "|  3h+kk+vh+erillinen wc+kph+s  |  Kerrostalo |  90120   |\n",
       "+-------------------------------+-------------+----------+\n",
       "[10 rows x 10 columns]"
      ]
     },
     "execution_count": 19,
     "metadata": {},
     "output_type": "execute_result"
    }
   ],
   "source": [
    "test_data.tail()"
   ]
  },
  {
   "cell_type": "markdown",
   "metadata": {},
   "source": [
    "### Predict using f3_model (lowest rmse)"
   ]
  },
  {
   "cell_type": "code",
   "execution_count": 20,
   "metadata": {
    "collapsed": true
   },
   "outputs": [],
   "source": [
    "house1 = oulu_sales[oulu_sales['id']==156]\n",
    "house2 = oulu_sales[oulu_sales['id']==1123]\n",
    "house3 = oulu_sales[oulu_sales['id']==2091]\n",
    "house4 = oulu_sales[oulu_sales['id']==42908]\n",
    "house5 = oulu_sales[oulu_sales['id']==40870]"
   ]
  },
  {
   "cell_type": "code",
   "execution_count": 21,
   "metadata": {},
   "outputs": [
    {
     "name": "stdout",
     "output_type": "stream",
     "text": [
      "+-----+-------------------------------+-------------+-----------+\n",
      "|  id |            address            | pricePerSqm | yearBuilt |\n",
      "+-----+-------------------------------+-------------+-----------+\n",
      "| 156 | Purjehtijantie 8 A 13, Kos... |     1198    |    1976   |\n",
      "+-----+-------------------------------+-------------+-----------+\n",
      "+-------------------------------+-----------+------+-----------------------+\n",
      "|           sourceLink          | salePrice | size |        roomInfo       |\n",
      "+-------------------------------+-----------+------+-----------------------+\n",
      "| http://www.etuovi.com/kohd... |  74900.0  | 62.5 | 2h+k+kph+aula+parveke |\n",
      "+-------------------------------+-----------+------+-----------------------+\n",
      "+------------+----------+\n",
      "| houseType  | postcode |\n",
      "+------------+----------+\n",
      "| Kerrostalo |  90560   |\n",
      "+------------+----------+\n",
      "[? rows x 10 columns]\n",
      "Note: Only the head of the SFrame is printed. This SFrame is lazily evaluated.\n",
      "You can use sf.materialize() to force materialization.\n",
      "+------+---------------------------+-------------+-----------+\n",
      "|  id  |          address          | pricePerSqm | yearBuilt |\n",
      "+------+---------------------------+-------------+-----------+\n",
      "| 1123 | Ratamopolku 6, Jääli Oulu |     2238    |    2017   |\n",
      "+------+---------------------------+-------------+-----------+\n",
      "+-------------------------------+-----------+-------+\n",
      "|           sourceLink          | salePrice |  size |\n",
      "+-------------------------------+-----------+-------+\n",
      "| http://www.etuovi.com/kohd... |  235000.0 | 105.0 |\n",
      "+-------------------------------+-----------+-------+\n",
      "+-------------------------------+-------------+----------+\n",
      "|            roomInfo           |  houseType  | postcode |\n",
      "+-------------------------------+-------------+----------+\n",
      "| 3 mh + oh+k+ruok+khh+ph+s+... | Omakotitalo |  90940   |\n",
      "+-------------------------------+-------------+----------+\n",
      "[? rows x 10 columns]\n",
      "Note: Only the head of the SFrame is printed. This SFrame is lazily evaluated.\n",
      "You can use sf.materialize() to force materialization.\n",
      "+------+-----------------------------+-------------+-----------+\n",
      "|  id  |           address           | pricePerSqm | yearBuilt |\n",
      "+------+-----------------------------+-------------+-----------+\n",
      "| 2091 | Nummikatu 42, Keskusta Oulu |     2529    |    1923   |\n",
      "+------+-----------------------------+-------------+-----------+\n",
      "+-------------------------------+-----------+------+\n",
      "|           sourceLink          | salePrice | size |\n",
      "+-------------------------------+-----------+------+\n",
      "| http://www.etuovi.com/kohd... |  129000.0 | 51.0 |\n",
      "+-------------------------------+-----------+------+\n",
      "+-------------------------------+------------+----------+\n",
      "|            roomInfo           | houseType  | postcode |\n",
      "+-------------------------------+------------+----------+\n",
      "| tupakeittiö, makuuhuone, k... | Kerrostalo |  90100   |\n",
      "+-------------------------------+------------+----------+\n",
      "[? rows x 10 columns]\n",
      "Note: Only the head of the SFrame is printed. This SFrame is lazily evaluated.\n",
      "You can use sf.materialize() to force materialization.\n",
      "+-------+-------------------------------+-------------+-----------+\n",
      "|   id  |            address            | pricePerSqm | yearBuilt |\n",
      "+-------+-------------------------------+-------------+-----------+\n",
      "| 42908 | Aleksanterinkatu 71 B, Hol... |     2929    |    2016   |\n",
      "+-------+-------------------------------+-------------+-----------+\n",
      "+-------------------------------+-----------+------+-----------------------------+\n",
      "|           sourceLink          | salePrice | size |           roomInfo          |\n",
      "+-------------------------------+-----------+------+-----------------------------+\n",
      "| http://www.etuovi.com/kohd... |  205000.0 | 70.0 | 3h+kk+vh+erillinen wc+kph+s |\n",
      "+-------------------------------+-----------+------+-----------------------------+\n",
      "+------------+----------+\n",
      "| houseType  | postcode |\n",
      "+------------+----------+\n",
      "| Kerrostalo |  90120   |\n",
      "+------------+----------+\n",
      "[? rows x 10 columns]\n",
      "Note: Only the head of the SFrame is printed. This SFrame is lazily evaluated.\n",
      "You can use sf.materialize() to force materialization.\n",
      "+-------+-------------------------------+-------------+-----------+\n",
      "|   id  |            address            | pricePerSqm | yearBuilt |\n",
      "+-------+-------------------------------+-------------+-----------+\n",
      "| 40870 | Höyrymyllyntie 18, Toppila... |     3608    |    2015   |\n",
      "+-------+-------------------------------+-------------+-----------+\n",
      "+-------------------------------+-----------+------+----------+------------+\n",
      "|           sourceLink          | salePrice | size | roomInfo | houseType  |\n",
      "+-------------------------------+-----------+------+----------+------------+\n",
      "| http://www.etuovi.com/kohd... |  142500.0 | 39.5 | 1h+kt+s  | Kerrostalo |\n",
      "+-------------------------------+-----------+------+----------+------------+\n",
      "+----------+\n",
      "| postcode |\n",
      "+----------+\n",
      "|  90520   |\n",
      "+----------+\n",
      "[? rows x 10 columns]\n",
      "Note: Only the head of the SFrame is printed. This SFrame is lazily evaluated.\n",
      "You can use sf.materialize() to force materialization.\n"
     ]
    }
   ],
   "source": [
    "print house1\n",
    "print house2\n",
    "print house3\n",
    "print house4\n",
    "print house5"
   ]
  },
  {
   "cell_type": "code",
   "execution_count": 22,
   "metadata": {},
   "outputs": [
    {
     "name": "stdout",
     "output_type": "stream",
     "text": [
      "Prediction: [95975.52398547437]\n",
      "Real Price: [74900.0]\n",
      "{'max_error': 21075.52398547437, 'rmse': 21075.52398547437}\n",
      "--------------------\n",
      "Prediction: [206831.11639939062]\n",
      "Real Price: [235000.0]\n",
      "{'max_error': 28168.883600609377, 'rmse': 28168.883600609377}\n",
      "--------------------\n",
      "Prediction: [7771.123688472435]\n",
      "Real Price: [129000.0]\n",
      "{'max_error': 121228.87631152757, 'rmse': 121228.87631152757}\n",
      "--------------------\n",
      "Prediction: [201375.64596075192]\n",
      "Real Price: [205000.0]\n",
      "{'max_error': 3624.354039248079, 'rmse': 3624.354039248079}\n",
      "--------------------\n",
      "Prediction: [139226.08860558644]\n",
      "Real Price: [142500.0]\n",
      "{'max_error': 3273.9113944135606, 'rmse': 3273.9113944135606}\n"
     ]
    }
   ],
   "source": [
    "print \"Prediction:\", f3_model.predict(house1[''])\n",
    "print \"Real Price:\", house1['salePrice']\n",
    "print f3_model.evaluate(house1)\n",
    "print \"--------------------\"\n",
    "\n",
    "print \"Prediction:\", f3_model.predict(house2)\n",
    "print \"Real Price:\",house2['salePrice']\n",
    "print f3_model.evaluate(house2)\n",
    "print \"--------------------\"\n",
    "\n",
    "print \"Prediction:\", f3_model.predict(house3)\n",
    "print \"Real Price:\",house3['salePrice']\n",
    "print f3_model.evaluate(house3)\n",
    "print \"--------------------\"\n",
    "\n",
    "print \"Prediction:\", f3_model.predict(house4)\n",
    "print \"Real Price:\",house4['salePrice']\n",
    "print f3_model.evaluate(house4)\n",
    "print \"--------------------\"\n",
    "\n",
    "print \"Prediction:\", f3_model.predict(house5)\n",
    "print \"Real Price:\",house5['salePrice']\n",
    "print f3_model.evaluate(house5)\n"
   ]
  },
  {
   "cell_type": "code",
   "execution_count": 23,
   "metadata": {},
   "outputs": [
    {
     "data": {
      "text/html": [
       "<pre>Linear regression:</pre>"
      ],
      "text/plain": [
       "Linear regression:"
      ]
     },
     "metadata": {},
     "output_type": "display_data"
    },
    {
     "data": {
      "text/html": [
       "<pre>--------------------------------------------------------</pre>"
      ],
      "text/plain": [
       "--------------------------------------------------------"
      ]
     },
     "metadata": {},
     "output_type": "display_data"
    },
    {
     "data": {
      "text/html": [
       "<pre>Number of examples          : 1096</pre>"
      ],
      "text/plain": [
       "Number of examples          : 1096"
      ]
     },
     "metadata": {},
     "output_type": "display_data"
    },
    {
     "data": {
      "text/html": [
       "<pre>Number of features          : 1</pre>"
      ],
      "text/plain": [
       "Number of features          : 1"
      ]
     },
     "metadata": {},
     "output_type": "display_data"
    },
    {
     "data": {
      "text/html": [
       "<pre>Number of unpacked features : 1</pre>"
      ],
      "text/plain": [
       "Number of unpacked features : 1"
      ]
     },
     "metadata": {},
     "output_type": "display_data"
    },
    {
     "data": {
      "text/html": [
       "<pre>Number of coefficients    : 2</pre>"
      ],
      "text/plain": [
       "Number of coefficients    : 2"
      ]
     },
     "metadata": {},
     "output_type": "display_data"
    },
    {
     "data": {
      "text/html": [
       "<pre>Starting Newton Method</pre>"
      ],
      "text/plain": [
       "Starting Newton Method"
      ]
     },
     "metadata": {},
     "output_type": "display_data"
    },
    {
     "data": {
      "text/html": [
       "<pre>--------------------------------------------------------</pre>"
      ],
      "text/plain": [
       "--------------------------------------------------------"
      ]
     },
     "metadata": {},
     "output_type": "display_data"
    },
    {
     "data": {
      "text/html": [
       "<pre>+-----------+----------+--------------+--------------------+---------------+</pre>"
      ],
      "text/plain": [
       "+-----------+----------+--------------+--------------------+---------------+"
      ]
     },
     "metadata": {},
     "output_type": "display_data"
    },
    {
     "data": {
      "text/html": [
       "<pre>| Iteration | Passes   | Elapsed Time | Training-max_error | Training-rmse |</pre>"
      ],
      "text/plain": [
       "| Iteration | Passes   | Elapsed Time | Training-max_error | Training-rmse |"
      ]
     },
     "metadata": {},
     "output_type": "display_data"
    },
    {
     "data": {
      "text/html": [
       "<pre>+-----------+----------+--------------+--------------------+---------------+</pre>"
      ],
      "text/plain": [
       "+-----------+----------+--------------+--------------------+---------------+"
      ]
     },
     "metadata": {},
     "output_type": "display_data"
    },
    {
     "data": {
      "text/html": [
       "<pre>| 1         | 2        | 0.001001     | 961479.349424      | 97617.608732  |</pre>"
      ],
      "text/plain": [
       "| 1         | 2        | 0.001001     | 961479.349424      | 97617.608732  |"
      ]
     },
     "metadata": {},
     "output_type": "display_data"
    },
    {
     "data": {
      "text/html": [
       "<pre>+-----------+----------+--------------+--------------------+---------------+</pre>"
      ],
      "text/plain": [
       "+-----------+----------+--------------+--------------------+---------------+"
      ]
     },
     "metadata": {},
     "output_type": "display_data"
    },
    {
     "data": {
      "text/html": [
       "<pre>SUCCESS: Optimal solution found.</pre>"
      ],
      "text/plain": [
       "SUCCESS: Optimal solution found."
      ]
     },
     "metadata": {},
     "output_type": "display_data"
    },
    {
     "data": {
      "text/html": [
       "<pre></pre>"
      ],
      "text/plain": []
     },
     "metadata": {},
     "output_type": "display_data"
    }
   ],
   "source": [
    "year_model = gl.linear_regression.create(train_data, target='salePrice', features=['yearBuilt'], validation_set=None)"
   ]
  },
  {
   "cell_type": "code",
   "execution_count": 24,
   "metadata": {},
   "outputs": [
    {
     "data": {
      "text/plain": [
       "{'max_error': 614380.7340733628, 'rmse': 111439.54540016587}"
      ]
     },
     "execution_count": 24,
     "metadata": {},
     "output_type": "execute_result"
    }
   ],
   "source": [
    "year_model.evaluate(test_data)"
   ]
  },
  {
   "cell_type": "code",
   "execution_count": 25,
   "metadata": {},
   "outputs": [
    {
     "data": {
      "text/html": [
       "<div style=\"max-height:1000px;max-width:1500px;overflow:auto;\"><table frame=\"box\" rules=\"cols\">\n",
       "    <tr>\n",
       "        <th style=\"padding-left: 1em; padding-right: 1em; text-align: center\">name</th>\n",
       "        <th style=\"padding-left: 1em; padding-right: 1em; text-align: center\">index</th>\n",
       "        <th style=\"padding-left: 1em; padding-right: 1em; text-align: center\">value</th>\n",
       "        <th style=\"padding-left: 1em; padding-right: 1em; text-align: center\">stderr</th>\n",
       "    </tr>\n",
       "    <tr>\n",
       "        <td style=\"padding-left: 1em; padding-right: 1em; text-align: center; vertical-align: top\">(intercept)</td>\n",
       "        <td style=\"padding-left: 1em; padding-right: 1em; text-align: center; vertical-align: top\">None</td>\n",
       "        <td style=\"padding-left: 1em; padding-right: 1em; text-align: center; vertical-align: top\">-2235582.77069</td>\n",
       "        <td style=\"padding-left: 1em; padding-right: 1em; text-align: center; vertical-align: top\">280699.709377</td>\n",
       "    </tr>\n",
       "    <tr>\n",
       "        <td style=\"padding-left: 1em; padding-right: 1em; text-align: center; vertical-align: top\">yearBuilt</td>\n",
       "        <td style=\"padding-left: 1em; padding-right: 1em; text-align: center; vertical-align: top\">None</td>\n",
       "        <td style=\"padding-left: 1em; padding-right: 1em; text-align: center; vertical-align: top\">1201.46934274</td>\n",
       "        <td style=\"padding-left: 1em; padding-right: 1em; text-align: center; vertical-align: top\">140.652276036</td>\n",
       "    </tr>\n",
       "</table>\n",
       "[2 rows x 4 columns]<br/>\n",
       "</div>"
      ],
      "text/plain": [
       "Columns:\n",
       "\tname\tstr\n",
       "\tindex\tstr\n",
       "\tvalue\tfloat\n",
       "\tstderr\tfloat\n",
       "\n",
       "Rows: 2\n",
       "\n",
       "Data:\n",
       "+-------------+-------+----------------+---------------+\n",
       "|     name    | index |     value      |     stderr    |\n",
       "+-------------+-------+----------------+---------------+\n",
       "| (intercept) |  None | -2235582.77069 | 280699.709377 |\n",
       "|  yearBuilt  |  None | 1201.46934274  | 140.652276036 |\n",
       "+-------------+-------+----------------+---------------+\n",
       "[2 rows x 4 columns]"
      ]
     },
     "execution_count": 25,
     "metadata": {},
     "output_type": "execute_result"
    }
   ],
   "source": [
    "year_model.get('coefficients')"
   ]
  },
  {
   "cell_type": "code",
   "execution_count": 26,
   "metadata": {},
   "outputs": [
    {
     "data": {
      "text/plain": [
       "[<matplotlib.lines.Line2D at 0x11cbec490>,\n",
       " <matplotlib.lines.Line2D at 0x11cbec590>]"
      ]
     },
     "execution_count": 26,
     "metadata": {},
     "output_type": "execute_result"
    },
    {
     "data": {
      "image/png": "[encoded data removed]",
      "text/plain": [
       "<matplotlib.figure.Figure at 0x11c986b50>"
      ]
     },
     "metadata": {},
     "output_type": "display_data"
    }
   ],
   "source": [
    "plt.plot(test_data['yearBuilt'], test_data['salePrice'], '.',\n",
    "        test_data['yearBuilt'], year_model.predict(test_data), '-')"
   ]
  }
 ],
 "metadata": {
  "kernelspec": {
   "display_name": "Python 2",
   "language": "python",
   "name": "python2"
  },
  "language_info": {
   "codemirror_mode": {
    "name": "ipython",
    "version": 2
   },
   "file_extension": ".py",
   "mimetype": "text/x-python",
   "name": "python",
   "nbconvert_exporter": "python",
   "pygments_lexer": "ipython2",
   "version": "2.7.13"
  }
 },
 "nbformat": 4,
 "nbformat_minor": 2
}
